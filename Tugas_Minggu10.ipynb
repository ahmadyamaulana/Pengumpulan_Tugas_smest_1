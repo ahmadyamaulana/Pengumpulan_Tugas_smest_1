{
  "cells": [
    {
      "cell_type": "markdown",
      "metadata": {
        "id": "4RoIps7DaAEx"
      },
      "source": [
        "# **Weekly 1**"
      ]
    },
    {
      "cell_type": "code",
      "execution_count": 5,
      "metadata": {
        "colab": {
          "base_uri": "https://localhost:8080/"
        },
        "id": "LEdaMnbUPIHX",
        "outputId": "cc39464d-74d7-48b2-cba3-ff14abf4293b"
      },
      "outputs": [
        {
          "output_type": "stream",
          "name": "stdout",
          "text": [
            "Masukkan angka Positif: 2\n",
            "2\n"
          ]
        }
      ],
      "source": [
        "def  faktorial(x):\n",
        "  if x == 1:\n",
        "    return 1\n",
        "  else:\n",
        "    return (x * faktorial(x-1))\n",
        "\n",
        "n = int(input(\"Masukkan angka Positif: \"))\n",
        "if n<=0:\n",
        "  print(\"Bukan angka positif\")\n",
        "elif n == 1:\n",
        "  x = 1\n",
        "  faktorial(x)\n",
        "  print(faktorial(x))\n",
        "else:\n",
        "  x = n\n",
        "  faktorial(x)\n",
        "  print(faktorial(x))"
      ]
    },
    {
      "cell_type": "markdown",
      "metadata": {
        "id": "Y8JvEyH6aFHk"
      },
      "source": [
        "# **Weekly 2**"
      ]
    },
    {
      "cell_type": "code",
      "execution_count": 8,
      "metadata": {
        "colab": {
          "base_uri": "https://localhost:8080/"
        },
        "id": "Am3bHlhsYQea",
        "outputId": "4e0b458e-1108-4732-b2ce-a888acdfb203"
      },
      "outputs": [
        {
          "output_type": "stream",
          "name": "stdout",
          "text": [
            "Pilih Bangun Datar:\n",
            "    1. Lingkaran\n",
            "    2. Persegi\n",
            "    3. Segitiga\n",
            "    4. keluar\n",
            "Masukkan pilihan: 1\n",
            "\n",
            "Lingkaran\n",
            "Masukkan jari-jari: 7\n",
            "Luas Lingkaran:  153.86\n",
            "\n",
            "Pilih Bangun Datar:\n",
            "    1. Lingkaran\n",
            "    2. Persegi\n",
            "    3. Segitiga\n",
            "    4. keluar\n",
            "Masukkan pilihan: 4\n",
            "\n",
            "Keluar\n"
          ]
        }
      ],
      "source": [
        "def luas_lingkaran(r):\n",
        "  luas = 3.14*r**2\n",
        "  return luas\n",
        "def luas_persegi(s):\n",
        "  luas = s**2\n",
        "  return luas\n",
        "def luas_segitiga(a,t):\n",
        "  luas = 0.5*a*t\n",
        "  return luas\n",
        "def fungsi():\n",
        "  while True:\n",
        "    print('''Pilih Bangun Datar:\n",
        "    1. Lingkaran\n",
        "    2. Persegi\n",
        "    3. Segitiga\n",
        "    4. keluar''')\n",
        "\n",
        "    n = int(input(\"Masukkan pilihan: \"))\n",
        "    print()\n",
        "    if n == 1:\n",
        "      print(\"Lingkaran\")\n",
        "      r = float(input(\"Masukkan jari-jari: \"))\n",
        "      luas = luas_lingkaran(r)\n",
        "      print(\"Luas Lingkaran: \",luas)\n",
        "    elif n == 2:\n",
        "      print(\"Persegi\")\n",
        "      s = float(input(\"Masukkan sisi: \"))\n",
        "      luas = luas_persegi(s)\n",
        "      print(\"Luas Persegi: \",luas)\n",
        "    elif n == 3:\n",
        "      print(\"Segitiga\")\n",
        "      a = float(input(\"Masukkan alas: \"))\n",
        "      t = float(input(\"Masukkan tinggi: \"))\n",
        "      luas = luas_segitiga(a,t)\n",
        "      print(\"Luas Segitiga: \",luas)\n",
        "    elif n == 4:\n",
        "      print(\"RA ONO NJU\")\n",
        "      break\n",
        "    else:\n",
        "      print(\"Pilihan tidak ada\")\n",
        "    print()\n",
        "\n",
        "fungsi()"
      ]
    }
  ],
  "metadata": {
    "colab": {
      "provenance": []
    },
    "kernelspec": {
      "display_name": "Python 3",
      "name": "python3"
    },
    "language_info": {
      "name": "python"
    }
  },
  "nbformat": 4,
  "nbformat_minor": 0
}