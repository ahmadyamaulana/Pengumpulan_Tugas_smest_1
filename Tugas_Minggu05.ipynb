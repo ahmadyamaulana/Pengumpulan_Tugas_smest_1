{
  "nbformat": 4,
  "nbformat_minor": 0,
  "metadata": {
    "colab": {
      "provenance": []
    },
    "kernelspec": {
      "name": "python3",
      "display_name": "Python 3"
    },
    "language_info": {
      "name": "python"
    }
  },
  "cells": [
    {
      "cell_type": "code",
      "execution_count": null,
      "metadata": {
        "colab": {
          "base_uri": "https://localhost:8080/"
        },
        "id": "P2zeLxGHEPdq",
        "outputId": "3b65f828-7d15-45e3-a2c1-5d9c1d1686ce"
      },
      "outputs": [
        {
          "output_type": "stream",
          "name": "stdout",
          "text": [
            "The Number is Positive\n"
          ]
        }
      ],
      "source": [
        "num = 10\n",
        "\n",
        "if num > 0:\n",
        "  print(\"The Number is Positive\")\n",
        "else:\n",
        "  if num < 0:\n",
        "    print(\"The number is negative\")\n",
        "  else:\n",
        "    print(\"The number is zero\")"
      ]
    },
    {
      "cell_type": "markdown",
      "source": [
        "## **Weekly Exercise1**"
      ],
      "metadata": {
        "id": "KgAPeu45FE3F"
      }
    },
    {
      "cell_type": "code",
      "source": [
        "Tahun = int(input(\"Masukan Tahun\"))\n",
        "\n",
        "if Tahun % 4 == 0:\n",
        "  print(Tahun,\"maka Termasuk Tahun Kabisat\")\n",
        "else:\n",
        "  print(Tahun, \"Maka bukan termasuk Tahun Kabisat\")"
      ],
      "metadata": {
        "colab": {
          "base_uri": "https://localhost:8080/"
        },
        "id": "Y4xTOIdXF7vg",
        "outputId": "68f73e2b-efd7-4235-a83b-c60275d58859"
      },
      "execution_count": null,
      "outputs": [
        {
          "output_type": "stream",
          "name": "stdout",
          "text": [
            "Masukan Tahun2004\n",
            "2004 maka Termasuk Tahun Kabisat\n"
          ]
        }
      ]
    },
    {
      "cell_type": "markdown",
      "source": [
        "# **Weekly Exercise2**"
      ],
      "metadata": {
        "id": "GJCEpJUbFWB0"
      }
    },
    {
      "cell_type": "code",
      "source": [
        "Angka_Pertama = int(input(\"Masukan Angka pertama = \"))\n",
        "Angka_Kedua = int(input(\"Masukan Angka Kedua = \"))\n",
        "Angka_Ketiga = int(input(\"Masukan Angka Ketiga = \"))\n",
        "\n",
        "if Angka_Pertama >= Angka_Kedua and Angka_Pertama >= Angka_Ketiga:\n",
        "  print(\"Angka Pertama Terbesar\")\n",
        "elif Angka_Kedua >= Angka_Pertama and Angka_Kedua >= Angka_Ketiga:\n",
        "  print(\"Angka Kedua Terbesar\")\n",
        "else:\n",
        "  print(\"Angka Ketiga Terbesar\")"
      ],
      "metadata": {
        "colab": {
          "base_uri": "https://localhost:8080/"
        },
        "id": "xKrk3a2RHMnv",
        "outputId": "416c1c9f-6a22-4896-a890-6c0aa6d8c991"
      },
      "execution_count": null,
      "outputs": [
        {
          "output_type": "stream",
          "name": "stdout",
          "text": [
            "Masukan Angka pertama = 12\n",
            "Masukan Angka Kedua = 25\n",
            "Masukan Angka Ketiga = 36\n",
            "Angka Ketiga Terbesar\n"
          ]
        }
      ]
    },
    {
      "cell_type": "markdown",
      "source": [
        "# **Weekly Exercise3**"
      ],
      "metadata": {
        "id": "UvOuuO2ZFhQz"
      }
    },
    {
      "cell_type": "code",
      "source": [
        "  Konsumen =input(\"Konsumen: \")\n",
        "  Total_Belanja = float(input(\"Total Belanja = \"))\n",
        "\n",
        "  if Total_Belanja >=100000:\n",
        "    if Total_Belanja >=200000:\n",
        "      diskon = 0.04\n",
        "    else:\n",
        "      diskon = 0.03\n",
        "\n",
        "  if Konsumen == \"member\":\n",
        "    diskon += 0.02\n",
        "\n",
        "  Total_seluruh = Total_Belanja *(1-diskon)\n",
        "  print(\"Total yang harus dibayarkan = \", Total_seluruh)"
      ],
      "metadata": {
        "colab": {
          "base_uri": "https://localhost:8080/"
        },
        "id": "pkdhPWRlKlyG",
        "outputId": "e639c0c2-6856-414c-a1a8-5e5c54986299"
      },
      "execution_count": null,
      "outputs": [
        {
          "output_type": "stream",
          "name": "stdout",
          "text": [
            "Konsumen: member\n",
            "Total Belanja = 100000\n",
            "Total yang harus dibayarkan =  95000.0\n"
          ]
        }
      ]
    },
    {
      "cell_type": "markdown",
      "source": [
        "# **Weekly Exercise4**"
      ],
      "metadata": {
        "id": "TwavUu4tFkxT"
      }
    },
    {
      "cell_type": "code",
      "source": [
        "Username = input(\"Masukan Username Anda : \")\n",
        "email = input(\"Masukan email Anda : \")\n",
        "password = input(\"Masukan password Anda : \")\n",
        "\n",
        "if Username == \"\":\n",
        "    print(\"username tidak boleh kosong\")\n",
        "elif \"@\" not in email:\n",
        "  print(\"Email anda kurang @\")\n",
        "elif len(password) <8:\n",
        "  print(\"panjang password harus lebih dari 8 karekter\")"
      ],
      "metadata": {
        "id": "YWvFPgm8PQNS",
        "colab": {
          "base_uri": "https://localhost:8080/"
        },
        "outputId": "a5dffe4a-edbc-4067-af29-4351ce877246"
      },
      "execution_count": null,
      "outputs": [
        {
          "name": "stdout",
          "output_type": "stream",
          "text": [
            "Masukan Username Anda : wee\n",
            "Masukan email Anda : wee@gmail.com\n",
            "Masukan password Anda : 12345678\n"
          ]
        }
      ]
    }
  ]
}