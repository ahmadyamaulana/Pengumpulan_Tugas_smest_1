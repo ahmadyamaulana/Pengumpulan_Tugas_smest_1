{
  "nbformat": 4,
  "nbformat_minor": 0,
  "metadata": {
    "colab": {
      "provenance": []
    },
    "kernelspec": {
      "name": "python3",
      "display_name": "Python 3"
    },
    "language_info": {
      "name": "python"
    }
  },
  "cells": [
    {
      "cell_type": "code",
      "source": [
        "class penjual():\n",
        "  def __init__(self, nama, barang, harga):\n",
        "    self.nama = nama\n",
        "    self.barang = barang\n",
        "    self.harga = harga\n",
        "    self.total = self.barang * self.harga\n",
        "\n",
        "  def info(self):\n",
        "    return f\"Nama: {self.nama}\\nBarang: {self.barang}\\nHarga: {self.harga}\\nTotal: {self.total}\"\n",
        "\n",
        "bolpoint = penjual(\"Bolpiont\", 10, 2000)\n",
        "pensil = penjual(\"Pensil\", 10, 1000)\n",
        "Penghapus = penjual(\"Penghapus\", 10, 500)\n",
        "\n",
        "\n",
        "print(\"\\033[1mSELMAT DATANG DI TOKO KAMI\\033[0m\")\n",
        "print(\"--------------------------\")\n",
        "print(\"informasi\")\n",
        "print(\"\")\n",
        "print(\"\\nBolpoint: \")\n",
        "print(bolpoint.info())\n",
        "print(\"\\nPensil: \")\n",
        "print(pensil.info())\n",
        "print(\"\\nPenghapus: \")\n",
        "print(Penghapus.info())\n",
        "\n",
        "total_harga = bolpoint.total + pensil.total + Penghapus.total\n",
        "print(\"\\nTotal Belanja: \",total_harga)"
      ],
      "metadata": {
        "colab": {
          "base_uri": "https://localhost:8080/"
        },
        "id": "Z0-dEpfvqGiL",
        "outputId": "9bb173c1-bebd-41b8-c834-f7ae356fe86e"
      },
      "execution_count": null,
      "outputs": [
        {
          "output_type": "stream",
          "name": "stdout",
          "text": [
            "\u001b[1mSELMAT DATANG DI TOKO KAMI\u001b[0m\n",
            "--------------------------\n",
            "informasi\n",
            "\n",
            "\n",
            "Bolpoint: \n",
            "Nama: Bolpiont\n",
            "Barang: 10\n",
            "Harga: 2000\n",
            "Total: 20000\n",
            "\n",
            "Pensil: \n",
            "Nama: Pensil\n",
            "Barang: 10\n",
            "Harga: 1000\n",
            "Total: 10000\n",
            "\n",
            "Penghapus: \n",
            "Nama: Penghapus\n",
            "Barang: 10\n",
            "Harga: 500\n",
            "Total: 5000\n",
            "\n",
            "Total Belanja:  35000\n"
          ]
        }
      ]
    }
  ]
}