{
  "nbformat": 4,
  "nbformat_minor": 0,
  "metadata": {
    "colab": {
      "provenance": []
    },
    "kernelspec": {
      "name": "python3",
      "display_name": "Python 3"
    },
    "language_info": {
      "name": "python"
    }
  },
  "cells": [
    {
      "cell_type": "markdown",
      "source": [
        "# **Kondisi Terhadap Python**"
      ],
      "metadata": {
        "id": "jBgQHdUlKFAP"
      }
    },
    {
      "cell_type": "markdown",
      "source": [
        "**Kondisi statment**\n",
        "\n",
        "**Perbandingan Operator** : membandingkan sebuha nilai atau operan berdasarkan sebuah kondisi.\n",
        "\n",
        "- equel: ==\n",
        "- not equel: !==\n",
        "- grather than: >\n",
        "- last than: <\n",
        "- grather than or equal to: >=\n",
        "- last than or equal to: <=\n"
      ],
      "metadata": {
        "id": "2GyLoJnGKOJH"
      }
    },
    {
      "cell_type": "markdown",
      "source": [
        "kita akan memberi nilai a = 5, mengunakan equality operator dengan membreikan dua equal (==) tanda untuk menentukan nilai sama"
      ],
      "metadata": {
        "id": "5la9AOlVLwXF"
      }
    },
    {
      "cell_type": "code",
      "source": [],
      "metadata": {
        "id": "Fl05mwW8MoWG"
      },
      "execution_count": null,
      "outputs": []
    },
    {
      "cell_type": "code",
      "source": [
        "# Condition Equal\n",
        "\n",
        "a = 5\n",
        "a == 6"
      ],
      "metadata": {
        "colab": {
          "base_uri": "https://localhost:8080/"
        },
        "id": "Qru6HoEgLrWv",
        "outputId": "2bf2d54a-1944-4c4f-f2d1-d6fe70a9bb54"
      },
      "execution_count": null,
      "outputs": [
        {
          "output_type": "execute_result",
          "data": {
            "text/plain": [
              "False"
            ]
          },
          "metadata": {},
          "execution_count": 1
        }
      ]
    },
    {
      "cell_type": "markdown",
      "source": [
        "jika hasilanya false, maka 5 tidak sama dengan 6"
      ],
      "metadata": {
        "id": "TSlBXsy7Mo95"
      }
    },
    {
      "cell_type": "markdown",
      "source": [],
      "metadata": {
        "id": "TTLu6SvFAEq_"
      }
    },
    {
      "cell_type": "code",
      "source": [
        "i = 6\n",
        "i > 5"
      ],
      "metadata": {
        "colab": {
          "base_uri": "https://localhost:8080/"
        },
        "id": "OSNhwQi2KLgq",
        "outputId": "dc6a38a9-ce43-4c55-dfda-10cd0cf23812"
      },
      "execution_count": null,
      "outputs": [
        {
          "output_type": "execute_result",
          "data": {
            "text/plain": [
              "True"
            ]
          },
          "metadata": {},
          "execution_count": 1
        }
      ]
    },
    {
      "cell_type": "code",
      "source": [
        "# Greater than Sign\n",
        "\n",
        "i = 2\n",
        "i > 5"
      ],
      "metadata": {
        "colab": {
          "base_uri": "https://localhost:8080/"
        },
        "id": "wxs3Vh4wB4b4",
        "outputId": "258fc208-2ae1-4c2d-a514-daa9b6cafc7b"
      },
      "execution_count": null,
      "outputs": [
        {
          "output_type": "execute_result",
          "data": {
            "text/plain": [
              "False"
            ]
          },
          "metadata": {},
          "execution_count": 2
        }
      ]
    },
    {
      "cell_type": "code",
      "source": [
        "# Inequality Sign\n",
        "\n",
        "i = 2\n",
        "i != 6"
      ],
      "metadata": {
        "colab": {
          "base_uri": "https://localhost:8080/"
        },
        "id": "O0Qj53jICTEW",
        "outputId": "9483fdcd-4cf4-46b7-c947-d1faa21743d7"
      },
      "execution_count": null,
      "outputs": [
        {
          "output_type": "execute_result",
          "data": {
            "text/plain": [
              "True"
            ]
          },
          "metadata": {},
          "execution_count": 3
        }
      ]
    },
    {
      "cell_type": "code",
      "source": [
        "# Inequality Sign\n",
        "\n",
        "i = 7\n",
        "i != 7"
      ],
      "metadata": {
        "colab": {
          "base_uri": "https://localhost:8080/"
        },
        "id": "CY6S7bKUCgHR",
        "outputId": "6ed22ea0-6af8-47cd-efac-06852e43acf7"
      },
      "execution_count": null,
      "outputs": [
        {
          "output_type": "execute_result",
          "data": {
            "text/plain": [
              "False"
            ]
          },
          "metadata": {},
          "execution_count": 6
        }
      ]
    },
    {
      "cell_type": "code",
      "source": [
        "# Use Equality sign to compare the strings\n",
        "\n",
        "\"ACDC\" == \"Michael Jackson\""
      ],
      "metadata": {
        "colab": {
          "base_uri": "https://localhost:8080/"
        },
        "id": "knsSzSM5D08t",
        "outputId": "9cc7d10f-fff8-42a5-95f6-f34690c675ef"
      },
      "execution_count": null,
      "outputs": [
        {
          "output_type": "execute_result",
          "data": {
            "text/plain": [
              "False"
            ]
          },
          "metadata": {},
          "execution_count": 7
        }
      ]
    },
    {
      "cell_type": "code",
      "source": [
        "# Use Inequality sign to compare the strings\n",
        "\n",
        "\"ACDC\" != \"Michael Jackson\""
      ],
      "metadata": {
        "colab": {
          "base_uri": "https://localhost:8080/"
        },
        "id": "Yy4CWbXfD-pe",
        "outputId": "a79636e7-3619-47ec-b467-8a407c48d741"
      },
      "execution_count": null,
      "outputs": [
        {
          "output_type": "execute_result",
          "data": {
            "text/plain": [
              "True"
            ]
          },
          "metadata": {},
          "execution_count": 8
        }
      ]
    },
    {
      "cell_type": "code",
      "source": [
        "# Compare characters\n",
        "\n",
        "'B' > 'A'"
      ],
      "metadata": {
        "colab": {
          "base_uri": "https://localhost:8080/"
        },
        "id": "tKtmp5-qEVGE",
        "outputId": "4b69916a-3d86-47dd-e5c8-3955263515b8"
      },
      "execution_count": null,
      "outputs": [
        {
          "output_type": "execute_result",
          "data": {
            "text/plain": [
              "True"
            ]
          },
          "metadata": {},
          "execution_count": 9
        }
      ]
    },
    {
      "cell_type": "code",
      "source": [
        "# Compare characters\n",
        "\n",
        "'BA' > 'AB'"
      ],
      "metadata": {
        "colab": {
          "base_uri": "https://localhost:8080/"
        },
        "id": "iU3LIaGYFn5D",
        "outputId": "1688aaed-6b95-41f0-c97b-2cd6bc32669d"
      },
      "execution_count": null,
      "outputs": [
        {
          "output_type": "execute_result",
          "data": {
            "text/plain": [
              "True"
            ]
          },
          "metadata": {},
          "execution_count": 10
        }
      ]
    },
    {
      "cell_type": "code",
      "source": [
        "\"ba\" >= 'ba'"
      ],
      "metadata": {
        "colab": {
          "base_uri": "https://localhost:8080/"
        },
        "id": "9ohed6sfF5Hn",
        "outputId": "459adf55-49e6-44d9-afc8-f2d8bb83c930"
      },
      "execution_count": null,
      "outputs": [
        {
          "output_type": "execute_result",
          "data": {
            "text/plain": [
              "True"
            ]
          },
          "metadata": {},
          "execution_count": 11
        }
      ]
    },
    {
      "cell_type": "markdown",
      "source": [
        "# **Branch**"
      ],
      "metadata": {
        "id": "UttexfCQG5CH"
      }
    },
    {
      "cell_type": "code",
      "source": [
        "# If statement example\n",
        "\n",
        "#age = 19\n",
        "age = 18\n",
        "\n",
        "#expression that can be true or false\n",
        "if age > 18:\n",
        "\n",
        "    #within an indent, we have the expression that is run if the condition is true\n",
        "    print(\"you can enter\" )\n",
        "\n",
        "#The statements after the if statement will run regardless if the condition is true or false\n",
        "print(\"move on\")"
      ],
      "metadata": {
        "colab": {
          "base_uri": "https://localhost:8080/"
        },
        "id": "_O9kEL62HbbN",
        "outputId": "ebde5480-20fe-4e32-e56c-45e552e7181a"
      },
      "execution_count": null,
      "outputs": [
        {
          "output_type": "stream",
          "name": "stdout",
          "text": [
            "move on\n"
          ]
        }
      ]
    },
    {
      "cell_type": "code",
      "source": [
        "# Else statement example\n",
        "\n",
        "#age = 17\n",
        "age = 19\n",
        "\n",
        "if age > 18:\n",
        "    print(\"you can enter\" )\n",
        "else:\n",
        "    print(\"go see Meat Loaf\" )\n",
        "    #print(\"move on\")\n",
        "\n",
        "print(\"move on\")"
      ],
      "metadata": {
        "colab": {
          "base_uri": "https://localhost:8080/"
        },
        "id": "vnQKzeb7Cx2Z",
        "outputId": "44e4beca-0fa4-4c3c-dcb1-08d0bd6e5c00"
      },
      "execution_count": null,
      "outputs": [
        {
          "output_type": "stream",
          "name": "stdout",
          "text": [
            "you can enter\n",
            "move on\n"
          ]
        }
      ]
    },
    {
      "cell_type": "code",
      "source": [
        "# Elif statment example\n",
        "\n",
        "age = 18\n",
        "\n",
        "if age > 18:\n",
        "    print(\"you can enter\" )\n",
        "elif age == 18:\n",
        "    print(\"go see Pink Floyd\")\n",
        "else:\n",
        "    print(\"go see Meat Loaf\" )\n",
        "\n",
        "print(\"move on\")"
      ],
      "metadata": {
        "colab": {
          "base_uri": "https://localhost:8080/"
        },
        "id": "pPqhkIopKtDa",
        "outputId": "360cf410-89aa-4be1-c6a9-42a31b1f2bbb"
      },
      "execution_count": null,
      "outputs": [
        {
          "output_type": "stream",
          "name": "stdout",
          "text": [
            "go see Pink Floyd\n",
            "move on\n"
          ]
        }
      ]
    },
    {
      "cell_type": "code",
      "source": [
        "# Condition statement example\n",
        "\n",
        "album_year = 1983\n",
        "#album_year = 1970\n",
        "\n",
        "if album_year > 1980:\n",
        "    print(\"Album year is greater than 1980\")\n",
        "\n",
        "print('do something..')"
      ],
      "metadata": {
        "colab": {
          "base_uri": "https://localhost:8080/"
        },
        "id": "zFLDLDj4K9h2",
        "outputId": "f5dde74c-2810-4707-8487-542c9a61eb96"
      },
      "execution_count": null,
      "outputs": [
        {
          "output_type": "stream",
          "name": "stdout",
          "text": [
            "Album year is greater than 1980\n",
            "do something..\n"
          ]
        }
      ]
    },
    {
      "cell_type": "code",
      "source": [
        "# Condition statement example\n",
        "\n",
        "#album_year = 1983\n",
        "album_year = 1970\n",
        "\n",
        "if album_year > 1980:\n",
        "    print(\"Album year is greater than 1980\")\n",
        "else:\n",
        "    print(\"less than 1980\")\n",
        "\n",
        "print('do something..')"
      ],
      "metadata": {
        "colab": {
          "base_uri": "https://localhost:8080/"
        },
        "id": "e0vQAnOcLIFI",
        "outputId": "86df48ee-94b4-409d-856f-8e1dcc3e7678"
      },
      "execution_count": null,
      "outputs": [
        {
          "output_type": "stream",
          "name": "stdout",
          "text": [
            "less than 1980\n",
            "do something..\n"
          ]
        }
      ]
    },
    {
      "cell_type": "markdown",
      "source": [
        "# **Logika Operator**"
      ],
      "metadata": {
        "id": "EIil5yDsMdu3"
      }
    },
    {
      "cell_type": "code",
      "source": [
        "# Condition statement example\n",
        "\n",
        "album_year = 1980\n",
        "\n",
        "if(album_year > 1979) and (album_year < 1990):\n",
        "    print (\"Album year was in between 1980 and 1989\")\n",
        "\n",
        "print(\"\")\n",
        "print(\"Do Stuff..\")"
      ],
      "metadata": {
        "colab": {
          "base_uri": "https://localhost:8080/"
        },
        "id": "LxB7F-BzMkdB",
        "outputId": "85fb0206-5015-4d0a-9924-6e497c32f7b1"
      },
      "execution_count": null,
      "outputs": [
        {
          "output_type": "stream",
          "name": "stdout",
          "text": [
            "Album year was in between 1980 and 1989\n",
            "\n",
            "Do Stuff..\n"
          ]
        }
      ]
    },
    {
      "cell_type": "code",
      "source": [
        "# Condition statement example\n",
        "\n",
        "album_year = 1978\n",
        "\n",
        "if(album_year < 1980) or (album_year > 1989):\n",
        "    print (\"Album was not made in the 1980's\")\n",
        "else:\n",
        "    print(\"The Album was made in the 1980's \")"
      ],
      "metadata": {
        "colab": {
          "base_uri": "https://localhost:8080/"
        },
        "id": "ZrD19jBXMlRm",
        "outputId": "89e914c7-d39b-4105-d09e-179b47d18644"
      },
      "execution_count": null,
      "outputs": [
        {
          "output_type": "stream",
          "name": "stdout",
          "text": [
            "Album was not made in the 1980's\n"
          ]
        }
      ]
    },
    {
      "cell_type": "code",
      "source": [
        "# Condition statement example\n",
        "\n",
        "album_year = 1984\n",
        "\n",
        "if not (album_year == '1984'):\n",
        "    print (\"Album year is not 1984\")"
      ],
      "metadata": {
        "colab": {
          "base_uri": "https://localhost:8080/"
        },
        "id": "ngGiZ5TNNG9i",
        "outputId": "84ff033f-b08c-4a25-cf62-047577e3c704"
      },
      "execution_count": null,
      "outputs": [
        {
          "output_type": "stream",
          "name": "stdout",
          "text": [
            "Album year is not 1984\n"
          ]
        }
      ]
    },
    {
      "cell_type": "markdown",
      "source": [
        "Tugas 1"
      ],
      "metadata": {
        "id": "kKnZy87MQ5oK"
      }
    },
    {
      "cell_type": "code",
      "source": [
        "age = int(input(\"Masukkan Umur : \"))\n",
        "\n",
        "if age >= 17:\n",
        "    print(\"Boleh Membuat SIM\")\n",
        "else:\n",
        "    print(\"Tidak Boleh Membuat SIM\")"
      ],
      "metadata": {
        "colab": {
          "base_uri": "https://localhost:8080/"
        },
        "id": "Uza4aCJzNWVs",
        "outputId": "f9660d0d-0247-4116-a138-401f57327d1b"
      },
      "execution_count": null,
      "outputs": [
        {
          "output_type": "stream",
          "name": "stdout",
          "text": [
            "Masukkan Umur : 17\n",
            "Boleh Membuat SIM\n"
          ]
        }
      ]
    },
    {
      "cell_type": "markdown",
      "source": [
        "Tugas 2"
      ],
      "metadata": {
        "id": "mX8O_czFyzro"
      }
    },
    {
      "cell_type": "code",
      "source": [
        "nilai = int(input(\"Masukkan Nilai \"))\n",
        "\n",
        "if nilai >= 90:\n",
        "  print(\"Grade A\")\n",
        "elif nilai >= 80:\n",
        "  print(\"Grade B+\")\n",
        "elif nilai >= 70:\n",
        "  print(\"Grade B\")\n",
        "elif nilai >= 60:\n",
        "  print(\"Grade C+\")\n",
        "elif nilai >= 50:\n",
        "  print(\"Grade C\")\n",
        "elif nilai >= 40:\n",
        "  print(\"Grade D\")\n",
        "else:\n",
        "  print(\"Grade E\")"
      ],
      "metadata": {
        "colab": {
          "base_uri": "https://localhost:8080/"
        },
        "id": "Z__NkSltQ3qS",
        "outputId": "30559444-3709-4399-d847-7d9d7b1dd557"
      },
      "execution_count": null,
      "outputs": [
        {
          "output_type": "stream",
          "name": "stdout",
          "text": [
            "Masukkan Nilai 40\n",
            "Grade D\n"
          ]
        }
      ]
    },
    {
      "cell_type": "markdown",
      "source": [
        "Tugas 3"
      ],
      "metadata": {
        "id": "yhNESAwhy3nn"
      }
    },
    {
      "cell_type": "code",
      "source": [
        "nilai = float(input(\"Masukkan Nilai \"))\n",
        "\n",
        "if nilai <= 100 and nilai >= 80:\n",
        "  print(\"Grade A\")\n",
        "elif nilai <= 79.99 and nilai >= 77.50:\n",
        "  print(\"Grade A-\")\n",
        "elif nilai <= 77.49 and nilai >= 75:\n",
        "  print(\"Grade AB\")\n",
        "elif nilai <= 74.99 and nilai >= 72.50:\n",
        "  print(\"Grade B+\")\n",
        "elif nilai <= 72.49 and nilai >= 70:\n",
        "  print(\"Grade B\")\n",
        "elif nilai <= 69.99 and nilai >= 67.50:\n",
        "  print(\"Grade B-\")\n",
        "elif nilai <= 67.49 and nilai >= 65:\n",
        "  print(\"Grade BC\")\n",
        "elif nilai <= 64.99 and nilai >= 62.50:\n",
        "  print(\"Grade C+\")\n",
        "elif nilai <= 62.49 and nilai >= 60:\n",
        "  print(\"Grade C\")\n",
        "elif nilai <= 59.99 and nilai >= 55:\n",
        "  print(\"Grade C-\")\n",
        "elif nilai <= 54.99 and nilai >= 50:\n",
        "  print(\"Grade CD\")\n",
        "elif nilai <= 49.99 and nilai >= 45:\n",
        "  print(\"Grade D+\")\n",
        "elif nilai <= 44.99 and nilai >= 40:\n",
        "  print(\"Grade D\")\n",
        "else:\n",
        "  print(\"Grade E\")"
      ],
      "metadata": {
        "colab": {
          "base_uri": "https://localhost:8080/"
        },
        "id": "V9qu7EegQ_GF",
        "outputId": "78b7a555-63b2-46c9-e3dd-1f4f44eac466"
      },
      "execution_count": null,
      "outputs": [
        {
          "output_type": "stream",
          "name": "stdout",
          "text": [
            "Masukkan Nilai 70\n",
            "Grade B\n"
          ]
        }
      ]
    },
    {
      "cell_type": "code",
      "source": [],
      "metadata": {
        "id": "lBZos8XNREwh"
      },
      "execution_count": null,
      "outputs": []
    }
  ]
}