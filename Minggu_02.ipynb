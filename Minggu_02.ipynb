{
  "nbformat": 4,
  "nbformat_minor": 0,
  "metadata": {
    "colab": {
      "provenance": []
    },
    "kernelspec": {
      "name": "python3",
      "display_name": "Python 3"
    },
    "language_info": {
      "name": "python"
    }
  },
  "cells": [
    {
      "cell_type": "markdown",
      "source": [
        "Hello word!\n"
      ],
      "metadata": {
        "id": "QEzZtpsZ9Ouu"
      }
    },
    {
      "cell_type": "code",
      "source": [
        "print('Hello Uesr!') #komentar"
      ],
      "metadata": {
        "colab": {
          "base_uri": "https://localhost:8080/"
        },
        "id": "5guC-ohO95Z8",
        "outputId": "867648c2-24af-477d-e2ee-cfec9837ae7c"
      },
      "execution_count": null,
      "outputs": [
        {
          "output_type": "stream",
          "name": "stdout",
          "text": [
            "Hello Uesr!\n"
          ]
        }
      ]
    },
    {
      "cell_type": "code",
      "source": [
        "#Check the Python Version\n",
        "import sys\n",
        "print('sys.version')"
      ],
      "metadata": {
        "colab": {
          "base_uri": "https://localhost:8080/"
        },
        "id": "fcd8y0YEBdi8",
        "outputId": "29aa0a43-fcc9-4137-c6f5-1a50bcdba333"
      },
      "execution_count": null,
      "outputs": [
        {
          "output_type": "stream",
          "name": "stdout",
          "text": [
            "sys.version\n"
          ]
        }
      ]
    },
    {
      "cell_type": "code",
      "source": [
        "#practice on writing comment\n",
        "\n",
        "print('hello, python!') #This line prints a string\n",
        "print('Hi') #hanya untuk sting \"Hi\"\n"
      ],
      "metadata": {
        "colab": {
          "base_uri": "https://localhost:8080/"
        },
        "id": "aPivqx0uB1io",
        "outputId": "2ff04cbb-fb7b-4e5f-a934-f1c4c0ae08b3"
      },
      "execution_count": null,
      "outputs": [
        {
          "output_type": "stream",
          "name": "stdout",
          "text": [
            "hello, python!\n",
            "Hi\n"
          ]
        }
      ]
    },
    {
      "cell_type": "code",
      "source": [
        "#Print string error (typo)\n",
        "frint(\"Hello, ahmada\")"
      ],
      "metadata": {
        "colab": {
          "base_uri": "https://localhost:8080/",
          "height": 158
        },
        "id": "0tybHnmiCLVg",
        "outputId": "54a0507a-0e93-4de4-b353-dc85e2731ef1"
      },
      "execution_count": null,
      "outputs": [
        {
          "output_type": "error",
          "ename": "NameError",
          "evalue": "name 'frint' is not defined",
          "traceback": [
            "\u001b[0;31m---------------------------------------------------------------------------\u001b[0m",
            "\u001b[0;31mNameError\u001b[0m                                 Traceback (most recent call last)",
            "\u001b[0;32m<ipython-input-10-3e147690fc84>\u001b[0m in \u001b[0;36m<cell line: 2>\u001b[0;34m()\u001b[0m\n\u001b[1;32m      1\u001b[0m \u001b[0;31m#Print string error (typo)\u001b[0m\u001b[0;34m\u001b[0m\u001b[0;34m\u001b[0m\u001b[0m\n\u001b[0;32m----> 2\u001b[0;31m \u001b[0mfrint\u001b[0m\u001b[0;34m(\u001b[0m\u001b[0;34m\"Hello, ahmada\"\u001b[0m\u001b[0;34m)\u001b[0m\u001b[0;34m\u001b[0m\u001b[0;34m\u001b[0m\u001b[0m\n\u001b[0m",
            "\u001b[0;31mNameError\u001b[0m: name 'frint' is not defined"
          ]
        }
      ]
    },
    {
      "cell_type": "code",
      "source": [
        "#dalam kasus di atas kita typo terhadap perintah Print\n",
        "#dan di dalam kurung kita harus memkai satu petik ''"
      ],
      "metadata": {
        "id": "Ctd8srhRCcGv"
      },
      "execution_count": null,
      "outputs": []
    },
    {
      "cell_type": "code",
      "source": [
        "#Try to see build in error massage\n",
        "print(\"Hello, python!)"
      ],
      "metadata": {
        "colab": {
          "base_uri": "https://localhost:8080/",
          "height": 106
        },
        "id": "z5jC9PIKC9P_",
        "outputId": "d71d9a37-2b67-4a28-9b32-d5b985e05069"
      },
      "execution_count": null,
      "outputs": [
        {
          "output_type": "error",
          "ename": "SyntaxError",
          "evalue": "unterminated string literal (detected at line 2) (<ipython-input-13-a1d27262d6e0>, line 2)",
          "traceback": [
            "\u001b[0;36m  File \u001b[0;32m\"<ipython-input-13-a1d27262d6e0>\"\u001b[0;36m, line \u001b[0;32m2\u001b[0m\n\u001b[0;31m    print(\"Hello, python!)\u001b[0m\n\u001b[0m          ^\u001b[0m\n\u001b[0;31mSyntaxError\u001b[0m\u001b[0;31m:\u001b[0m unterminated string literal (detected at line 2)\n"
          ]
        }
      ]
    },
    {
      "cell_type": "code",
      "source": [
        "#kita juga harus memperhatikan setelah petik harus di tutup dengan petik juga\n",
        "# print(\"Hello, Python\")"
      ],
      "metadata": {
        "id": "iiZ-uiUiDTl7"
      },
      "execution_count": null,
      "outputs": []
    },
    {
      "cell_type": "code",
      "source": [
        "#Print string and error to seea the running order\n",
        "\n",
        "print(\"This will be printed\")\n",
        "orint(\"This will cause an error\")\n",
        "print(\"This will Not be printrd\")"
      ],
      "metadata": {
        "colab": {
          "base_uri": "https://localhost:8080/",
          "height": 211
        },
        "id": "C6iQtIr4DONd",
        "outputId": "5f3f3c63-e261-4f8f-f716-937966f61761"
      },
      "execution_count": null,
      "outputs": [
        {
          "output_type": "stream",
          "name": "stdout",
          "text": [
            "This will be printed\n"
          ]
        },
        {
          "output_type": "error",
          "ename": "NameError",
          "evalue": "name 'orint' is not defined",
          "traceback": [
            "\u001b[0;31m---------------------------------------------------------------------------\u001b[0m",
            "\u001b[0;31mNameError\u001b[0m                                 Traceback (most recent call last)",
            "\u001b[0;32m<ipython-input-15-18819ee9a2ae>\u001b[0m in \u001b[0;36m<cell line: 4>\u001b[0;34m()\u001b[0m\n\u001b[1;32m      2\u001b[0m \u001b[0;34m\u001b[0m\u001b[0m\n\u001b[1;32m      3\u001b[0m \u001b[0mprint\u001b[0m\u001b[0;34m(\u001b[0m\u001b[0;34m\"This will be printed\"\u001b[0m\u001b[0;34m)\u001b[0m\u001b[0;34m\u001b[0m\u001b[0;34m\u001b[0m\u001b[0m\n\u001b[0;32m----> 4\u001b[0;31m \u001b[0morint\u001b[0m\u001b[0;34m(\u001b[0m\u001b[0;34m\"This will cause an error\"\u001b[0m\u001b[0;34m)\u001b[0m\u001b[0;34m\u001b[0m\u001b[0;34m\u001b[0m\u001b[0m\n\u001b[0m\u001b[1;32m      5\u001b[0m \u001b[0mprint\u001b[0m\u001b[0;34m(\u001b[0m\u001b[0;34m\"This will Not be printrd\"\u001b[0m\u001b[0;34m)\u001b[0m\u001b[0;34m\u001b[0m\u001b[0;34m\u001b[0m\u001b[0m\n",
            "\u001b[0;31mNameError\u001b[0m: name 'orint' is not defined"
          ]
        }
      ]
    },
    {
      "cell_type": "code",
      "source": [
        "#dalam kasus di atas kita dapat melihat bahwa Pyhton dapat mencari kesalaha terhadap masalah di atas"
      ],
      "metadata": {
        "id": "NdO3gw1gEIiP"
      },
      "execution_count": null,
      "outputs": []
    },
    {
      "cell_type": "markdown",
      "source": [
        "# **Weekly Exercise** **1** (week1)"
      ],
      "metadata": {
        "id": "tHakmErwADSe"
      }
    },
    {
      "cell_type": "code",
      "source": [],
      "metadata": {
        "id": "8oQk0SZDOhLg"
      },
      "execution_count": null,
      "outputs": []
    },
    {
      "cell_type": "code",
      "source": [
        "from google.colab import drive\n",
        "drive.mount('/content/drive')"
      ],
      "metadata": {
        "id": "ywgSR3C4QB_z"
      },
      "execution_count": null,
      "outputs": []
    },
    {
      "cell_type": "code",
      "source": [
        "print('Nama         : Ahmada Nur Maulana Bafakih')\n",
        "print()\n",
        "print('NPM          : 2440506069')\n",
        "print()\n",
        "print('Alamat       : Jl. Sumba no 227 wates kota magelang')\n",
        "print()\n",
        "print('Tinggi Badan : 180')\n",
        "print()\n",
        "print('Berat Badan  : 56')"
      ],
      "metadata": {
        "colab": {
          "base_uri": "https://localhost:8080/"
        },
        "id": "sBfWrBdEEdXC",
        "outputId": "39fe84b8-f19f-4c39-b453-7764c5aca5e6"
      },
      "execution_count": 1,
      "outputs": [
        {
          "output_type": "stream",
          "name": "stdout",
          "text": [
            "Nama         : Ahmada Nur Maulana Bafakih\n",
            "\n",
            "NPM          : 2440506069\n",
            "\n",
            "Alamat       : Jl. Sumba no 227 wates kota magelang\n",
            "\n",
            "Tinggi Badan : 180\n",
            "\n",
            "Berat Badan  : 56\n"
          ]
        }
      ]
    },
    {
      "cell_type": "code",
      "source": [
        "print('\\033[1m''UNIVERSITAS TIDAR''\\033[0m')\n",
        "print('Universitas Tidar merupakan Perguruan Tinggi Pemerintah atau Perguruan Tinggi Negeri yang telah ditetapkan berdasarkan Peraturan Presiden Republik Indonesia Nomor 23 Tahun 2014 pada tanggal 1 April 2014.')"
      ],
      "metadata": {
        "colab": {
          "base_uri": "https://localhost:8080/"
        },
        "id": "Ee1mISwdfz8x",
        "outputId": "32c457b3-2c79-41f8-a825-fa68eaf229ec"
      },
      "execution_count": null,
      "outputs": [
        {
          "output_type": "stream",
          "name": "stdout",
          "text": [
            "\u001b[1mUNIVERSITAS TIDAR\u001b[0m\n",
            "Universitas Tidar merupakan Perguruan Tinggi Pemerintah atau Perguruan Tinggi Negeri yang telah ditetapkan berdasarkan Peraturan Presiden Republik Indonesia Nomor 23 Tahun 2014 pada tanggal 1 April 2014.\n"
          ]
        }
      ]
    },
    {
      "cell_type": "code",
      "source": [
        "print('\\033[1m''JURUSAN ELEKTRO, MEKATRONIK DAN INFORMASI''\\033[0m')\n",
        "print('Jurusan Tekin Elektro terdiri atas tiga program studi, antara lain :')\n",
        "print('''\n",
        " 1. S1 Teknik Elektro (\\033[3mBachelor of Electrical Engineering\\033[0m)\n",
        " 2. S1 Teknologi Informasi (\\033[3mBachelor of Information Technology\\033[0m)\n",
        " 3. S1 Teknik Mekatronika (\\033[3mBachelor of Mecatronics Engineering\\033[0m) ''')\n"
      ],
      "metadata": {
        "colab": {
          "base_uri": "https://localhost:8080/"
        },
        "id": "Ci3AJcwLrf1D",
        "outputId": "3493e46c-e7c7-4667-8765-d7618054b684"
      },
      "execution_count": 5,
      "outputs": [
        {
          "output_type": "stream",
          "name": "stdout",
          "text": [
            "\u001b[1mJURUSAN ELEKTRO, MEKATRONIK DAN INFORMASI\u001b[0m\n",
            "Jurusan Tekin Elektro terdiri atas tiga program studi, antara lain :\n",
            "\n",
            " 1. S1 Teknik Elektro (\u001b[3mBachelor of Electrical Engineering\u001b[0m)\n",
            " 2. S1 Teknologi Informasi (\u001b[3mBachelor of Information Technology\u001b[0m)\n",
            " 3. S1 Teknik Mekatronika (\u001b[3mBachelor of Mecatronics Engineering\u001b[0m) \n"
          ]
        }
      ]
    },
    {
      "cell_type": "code",
      "source": [
        "# Integer\n",
        "11"
      ],
      "metadata": {
        "colab": {
          "base_uri": "https://localhost:8080/"
        },
        "id": "9nNdZjuxFdJP",
        "outputId": "e0044d25-167e-4422-d759-9cda9ef055d0"
      },
      "execution_count": null,
      "outputs": [
        {
          "output_type": "execute_result",
          "data": {
            "text/plain": [
              "11"
            ]
          },
          "metadata": {},
          "execution_count": 18
        }
      ]
    },
    {
      "cell_type": "code",
      "source": [
        "#float\n",
        "2.12"
      ],
      "metadata": {
        "colab": {
          "base_uri": "https://localhost:8080/"
        },
        "id": "g-w3Dz6bGJhu",
        "outputId": "8b8dc88d-482a-4731-d2d4-9b39449386cc"
      },
      "execution_count": null,
      "outputs": [
        {
          "output_type": "execute_result",
          "data": {
            "text/plain": [
              "2.12"
            ]
          },
          "metadata": {},
          "execution_count": 19
        }
      ]
    },
    {
      "cell_type": "code",
      "source": [
        "#stirng\n",
        "\n",
        "#print('hello, ptyhon 102!')\n",
        "#print('hello, ptyhon 101!')\n",
        "\n",
        "\"hello, python 102!\"\n",
        "#\"hello, python 101!\""
      ],
      "metadata": {
        "colab": {
          "base_uri": "https://localhost:8080/",
          "height": 36
        },
        "id": "zvCASoLOGNWa",
        "outputId": "e15b48a0-1a3a-455a-d46a-cf5aa8e2d102"
      },
      "execution_count": null,
      "outputs": [
        {
          "output_type": "execute_result",
          "data": {
            "text/plain": [
              "'hello, python 102!'"
            ],
            "application/vnd.google.colaboratory.intrinsic+json": {
              "type": "string"
            }
          },
          "metadata": {},
          "execution_count": 20
        }
      ]
    },
    {
      "cell_type": "code",
      "source": [
        "#pada contoh di atas kita dapat melihat Integer untuk bilangan bulat, Float untuk bilangan koma dan, String untuk kata"
      ],
      "metadata": {
        "id": "W4daoZdJGmRX"
      },
      "execution_count": null,
      "outputs": []
    },
    {
      "cell_type": "code",
      "source": [
        "# Type of 12\n",
        "\n",
        "type(12)"
      ],
      "metadata": {
        "colab": {
          "base_uri": "https://localhost:8080/"
        },
        "id": "nSNMT_szG4Ds",
        "outputId": "f6a28ef6-3598-478d-ed7f-bc69fd62621f"
      },
      "execution_count": null,
      "outputs": [
        {
          "output_type": "execute_result",
          "data": {
            "text/plain": [
              "int"
            ]
          },
          "metadata": {},
          "execution_count": 22
        }
      ]
    },
    {
      "cell_type": "code",
      "source": [
        "type(12.4)"
      ],
      "metadata": {
        "colab": {
          "base_uri": "https://localhost:8080/"
        },
        "id": "j3Gq3McmG994",
        "outputId": "1bb0a2b6-7649-4e81-a920-75aa47c1077a"
      },
      "execution_count": null,
      "outputs": [
        {
          "output_type": "execute_result",
          "data": {
            "text/plain": [
              "float"
            ]
          },
          "metadata": {},
          "execution_count": 23
        }
      ]
    },
    {
      "cell_type": "code",
      "source": [
        "type(\"selamat datang di dunia python ahmada!\")"
      ],
      "metadata": {
        "colab": {
          "base_uri": "https://localhost:8080/"
        },
        "id": "KL3f992uHDhj",
        "outputId": "4102461a-115a-4481-d718-99d976d805f1"
      },
      "execution_count": null,
      "outputs": [
        {
          "output_type": "execute_result",
          "data": {
            "text/plain": [
              "str"
            ]
          },
          "metadata": {},
          "execution_count": 24
        }
      ]
    },
    {
      "cell_type": "code",
      "source": [
        "# jika memasukan bilanagan koma dengan 0 maka akan tetap di hitung float\n",
        "type(14.0)"
      ],
      "metadata": {
        "colab": {
          "base_uri": "https://localhost:8080/"
        },
        "id": "8Al4gSgKHOO4",
        "outputId": "755c310f-0e20-4c84-eedf-d05f6e45d16f"
      },
      "execution_count": null,
      "outputs": [
        {
          "output_type": "execute_result",
          "data": {
            "text/plain": [
              "float"
            ]
          },
          "metadata": {},
          "execution_count": 25
        }
      ]
    },
    {
      "cell_type": "code",
      "source": [
        "#bilangan  min(-) juga termasuk Integer\n",
        "type(-1)"
      ],
      "metadata": {
        "colab": {
          "base_uri": "https://localhost:8080/"
        },
        "id": "KaDp3akYHbou",
        "outputId": "016e485a-e679-45e3-a981-414a3d147f26"
      },
      "execution_count": null,
      "outputs": [
        {
          "output_type": "execute_result",
          "data": {
            "text/plain": [
              "int"
            ]
          },
          "metadata": {},
          "execution_count": 26
        }
      ]
    },
    {
      "cell_type": "code",
      "source": [
        "# setiap print dengan koma maka di hitung float\n",
        "type(1.0)\n",
        "type(0.5)\n"
      ],
      "metadata": {
        "colab": {
          "base_uri": "https://localhost:8080/"
        },
        "id": "pXvRU4e5HnWP",
        "outputId": "e8e3c978-2775-430c-8fd6-2bb6ed286595"
      },
      "execution_count": null,
      "outputs": [
        {
          "output_type": "execute_result",
          "data": {
            "text/plain": [
              "float"
            ]
          },
          "metadata": {},
          "execution_count": 27
        }
      ]
    },
    {
      "cell_type": "code",
      "source": [
        "#system setting tentang float type\n",
        "import sys #sys ini digunakan untuk deklarasi  sebelum mengunakan hal tersebut\n",
        "sys.float_info"
      ],
      "metadata": {
        "colab": {
          "base_uri": "https://localhost:8080/"
        },
        "id": "nia4wxKxH9ze",
        "outputId": "a07aad33-9d35-442b-a0b3-9cc949c6ce31"
      },
      "execution_count": null,
      "outputs": [
        {
          "output_type": "execute_result",
          "data": {
            "text/plain": [
              "sys.float_info(max=1.7976931348623157e+308, max_exp=1024, max_10_exp=308, min=2.2250738585072014e-308, min_exp=-1021, min_10_exp=-307, dig=15, mant_dig=53, epsilon=2.220446049250313e-16, radix=2, rounds=1)"
            ]
          },
          "metadata": {},
          "execution_count": 29
        }
      ]
    },
    {
      "cell_type": "code",
      "source": [
        "type(2)\n",
        "\n",
        "#Converting dari Integer ke Float\n",
        "\n",
        "float(2)"
      ],
      "metadata": {
        "colab": {
          "base_uri": "https://localhost:8080/"
        },
        "id": "TreEOGv1IWKH",
        "outputId": "dce2a6c6-2eb7-44d3-f6f2-3775679b5d4e"
      },
      "execution_count": null,
      "outputs": [
        {
          "output_type": "execute_result",
          "data": {
            "text/plain": [
              "2.0"
            ]
          },
          "metadata": {},
          "execution_count": 32
        }
      ]
    },
    {
      "cell_type": "code",
      "source": [
        "#cara lain kita akan menkonvert dari integer ke float\n",
        "type(float(2))"
      ],
      "metadata": {
        "colab": {
          "base_uri": "https://localhost:8080/"
        },
        "id": "v8uVpr4PI44y",
        "outputId": "1340faa5-8564-46ba-f147-b4cf6092f052"
      },
      "execution_count": null,
      "outputs": [
        {
          "output_type": "execute_result",
          "data": {
            "text/plain": [
              "float"
            ]
          },
          "metadata": {},
          "execution_count": 33
        }
      ]
    },
    {
      "cell_type": "code",
      "source": [
        "#casting 1.1 ke integer akan mejadikan loss information\n",
        "\n",
        "int(1.1)"
      ],
      "metadata": {
        "colab": {
          "base_uri": "https://localhost:8080/"
        },
        "id": "pgxSeLJJITCB",
        "outputId": "6d4a2b5a-0636-4adb-e779-c4c475325486"
      },
      "execution_count": null,
      "outputs": [
        {
          "output_type": "execute_result",
          "data": {
            "text/plain": [
              "1"
            ]
          },
          "metadata": {},
          "execution_count": 34
        }
      ]
    },
    {
      "cell_type": "code",
      "source": [
        "#convert  dari string ke integer atau float\n",
        "\n",
        "int('1')"
      ],
      "metadata": {
        "colab": {
          "base_uri": "https://localhost:8080/"
        },
        "id": "s4cmO7IIJmQj",
        "outputId": "73c9dd8c-88f8-4912-bcbd-ae8e8449d2d8"
      },
      "execution_count": null,
      "outputs": [
        {
          "output_type": "execute_result",
          "data": {
            "text/plain": [
              "1"
            ]
          },
          "metadata": {},
          "execution_count": 35
        }
      ]
    },
    {
      "cell_type": "code",
      "source": [
        "#contoh convert dari string ke integer dengan error\n",
        "\n",
        "int('1 atau 2 anjing')"
      ],
      "metadata": {
        "colab": {
          "base_uri": "https://localhost:8080/",
          "height": 176
        },
        "id": "3CHuEvmvJ0KO",
        "outputId": "745ad0fb-0adf-424e-fc85-ea6d4be6428a"
      },
      "execution_count": null,
      "outputs": [
        {
          "output_type": "error",
          "ename": "ValueError",
          "evalue": "invalid literal for int() with base 10: '1 atau 2 anjing'",
          "traceback": [
            "\u001b[0;31m---------------------------------------------------------------------------\u001b[0m",
            "\u001b[0;31mValueError\u001b[0m                                Traceback (most recent call last)",
            "\u001b[0;32m<ipython-input-37-c3aaccde7978>\u001b[0m in \u001b[0;36m<cell line: 3>\u001b[0;34m()\u001b[0m\n\u001b[1;32m      1\u001b[0m \u001b[0;31m#contoh convert dari string ke integer dengan error\u001b[0m\u001b[0;34m\u001b[0m\u001b[0;34m\u001b[0m\u001b[0m\n\u001b[1;32m      2\u001b[0m \u001b[0;34m\u001b[0m\u001b[0m\n\u001b[0;32m----> 3\u001b[0;31m \u001b[0mint\u001b[0m\u001b[0;34m(\u001b[0m\u001b[0;34m'1 atau 2 anjing'\u001b[0m\u001b[0;34m)\u001b[0m\u001b[0;34m\u001b[0m\u001b[0;34m\u001b[0m\u001b[0m\n\u001b[0m",
            "\u001b[0;31mValueError\u001b[0m: invalid literal for int() with base 10: '1 atau 2 anjing'"
          ]
        }
      ]
    },
    {
      "cell_type": "code",
      "source": [],
      "metadata": {
        "id": "Xv78mWc4vGBq"
      },
      "execution_count": null,
      "outputs": []
    },
    {
      "cell_type": "code",
      "source": [
        "#contoh di atas karna  pyhton tidak dapat mendeteksi isi dari pesan tersebut"
      ],
      "metadata": {
        "id": "UEYOvLv4KNLr"
      },
      "execution_count": null,
      "outputs": []
    },
    {
      "cell_type": "markdown",
      "source": [
        "Convert dari nomer ke Sting"
      ],
      "metadata": {
        "id": "Exh25qwILD5G"
      }
    },
    {
      "cell_type": "code",
      "source": [
        "#contoh covert dari string ke float\n",
        "\n",
        "float ('1.2')"
      ],
      "metadata": {
        "colab": {
          "base_uri": "https://localhost:8080/"
        },
        "id": "udHLgGhuKERO",
        "outputId": "ea5fac17-c8ac-4a66-85f2-14f09252eb6e"
      },
      "execution_count": null,
      "outputs": [
        {
          "output_type": "execute_result",
          "data": {
            "text/plain": [
              "1.2"
            ]
          },
          "metadata": {},
          "execution_count": 39
        }
      ]
    },
    {
      "cell_type": "code",
      "source": [
        "#contoh dari integer ke stirng\n",
        "\n",
        "str(1)\n"
      ],
      "metadata": {
        "colab": {
          "base_uri": "https://localhost:8080/",
          "height": 36
        },
        "id": "mx0SGLtWKhqJ",
        "outputId": "bfda1406-1ce2-43a2-dcfd-080b24b933de"
      },
      "execution_count": null,
      "outputs": [
        {
          "output_type": "execute_result",
          "data": {
            "text/plain": [
              "'1'"
            ],
            "application/vnd.google.colaboratory.intrinsic+json": {
              "type": "string"
            }
          },
          "metadata": {},
          "execution_count": 42
        }
      ]
    },
    {
      "cell_type": "code",
      "source": [
        "#contoh dari integer ke float\n",
        "\n",
        "str(1.4)"
      ],
      "metadata": {
        "colab": {
          "base_uri": "https://localhost:8080/",
          "height": 36
        },
        "id": "QOxQ3QpZK3fR",
        "outputId": "3231ece5-857d-448b-a0f2-e65dcae0d75e"
      },
      "execution_count": null,
      "outputs": [
        {
          "output_type": "execute_result",
          "data": {
            "text/plain": [
              "'1.4'"
            ],
            "application/vnd.google.colaboratory.intrinsic+json": {
              "type": "string"
            }
          },
          "metadata": {},
          "execution_count": 43
        }
      ]
    },
    {
      "cell_type": "code",
      "source": [],
      "metadata": {
        "id": "VUaGVsHbK4iu"
      },
      "execution_count": null,
      "outputs": []
    },
    {
      "cell_type": "markdown",
      "source": [
        "Boolean data type"
      ],
      "metadata": {
        "id": "8_aVbhq4CoWq"
      }
    },
    {
      "cell_type": "code",
      "source": [
        "# Value true\n",
        "\n",
        "True"
      ],
      "metadata": {
        "colab": {
          "base_uri": "https://localhost:8080/"
        },
        "id": "aiM-TcAjLA9h",
        "outputId": "8a614cf1-082f-4319-f465-ad9526ef2277"
      },
      "execution_count": null,
      "outputs": [
        {
          "output_type": "execute_result",
          "data": {
            "text/plain": [
              "True"
            ]
          },
          "metadata": {},
          "execution_count": 44
        }
      ]
    },
    {
      "cell_type": "code",
      "source": [
        "\"T\""
      ],
      "metadata": {
        "colab": {
          "base_uri": "https://localhost:8080/",
          "height": 36
        },
        "id": "v_r1nzu6LOSR",
        "outputId": "70139f16-e708-479b-da90-3a29d82bb932"
      },
      "execution_count": null,
      "outputs": [
        {
          "output_type": "execute_result",
          "data": {
            "text/plain": [
              "'T'"
            ],
            "application/vnd.google.colaboratory.intrinsic+json": {
              "type": "string"
            }
          },
          "metadata": {},
          "execution_count": 45
        }
      ]
    },
    {
      "cell_type": "code",
      "source": [
        "False"
      ],
      "metadata": {
        "colab": {
          "base_uri": "https://localhost:8080/"
        },
        "id": "yNH_QNyXLTu-",
        "outputId": "a852a0b9-f367-486d-8429-7af9c6499673"
      },
      "execution_count": null,
      "outputs": [
        {
          "output_type": "execute_result",
          "data": {
            "text/plain": [
              "False"
            ]
          },
          "metadata": {},
          "execution_count": 46
        }
      ]
    },
    {
      "cell_type": "code",
      "source": [
        "\"F\""
      ],
      "metadata": {
        "colab": {
          "base_uri": "https://localhost:8080/",
          "height": 36
        },
        "id": "hLTGHOnhLZDS",
        "outputId": "190691c0-8b44-4560-fd47-71a513d67086"
      },
      "execution_count": null,
      "outputs": [
        {
          "output_type": "execute_result",
          "data": {
            "text/plain": [
              "'F'"
            ],
            "application/vnd.google.colaboratory.intrinsic+json": {
              "type": "string"
            }
          },
          "metadata": {},
          "execution_count": 47
        }
      ]
    },
    {
      "cell_type": "markdown",
      "source": [
        "saat kamu bertanya pada python untuk display type Boolean objek untuk melihatnya kamu perlu mengunakan perintah sebagai berikut"
      ],
      "metadata": {
        "id": "Xxc-I39aLkRW"
      }
    },
    {
      "cell_type": "code",
      "source": [
        "#type of True\n",
        "\n",
        "type(True)"
      ],
      "metadata": {
        "colab": {
          "base_uri": "https://localhost:8080/"
        },
        "id": "bjqC57oyL3vY",
        "outputId": "32bb052c-f33c-48e5-e9a3-5d5b40b5195e"
      },
      "execution_count": null,
      "outputs": [
        {
          "output_type": "execute_result",
          "data": {
            "text/plain": [
              "bool"
            ]
          },
          "metadata": {},
          "execution_count": 48
        }
      ]
    },
    {
      "cell_type": "code",
      "source": [
        "#type of false\n",
        "\n",
        "type(False)"
      ],
      "metadata": {
        "colab": {
          "base_uri": "https://localhost:8080/"
        },
        "id": "IF9b_tmzL9B0",
        "outputId": "975edf36-ecd8-4272-e522-bd5748cf3065"
      },
      "execution_count": null,
      "outputs": [
        {
          "output_type": "execute_result",
          "data": {
            "text/plain": [
              "bool"
            ]
          },
          "metadata": {},
          "execution_count": 49
        }
      ]
    },
    {
      "cell_type": "markdown",
      "source": [
        "kita dapat menegcek boolean untuk semua data type. jika kia mengecek suatu boolean denagn value a True makan integer atau foalt akan mendapatkan nilai 1, jika kita mengecek boolean dengan value false untuk sebuah bilangan integar atau foalt maka akan berniali 0\n",
        "jadi kesimpulannya jika kita mengecek 1 pada boolean maka akan bernilai true dan jika kita mengecek 0 pada boolean makan akan mendapatkan false = mari kita coba\n"
      ],
      "metadata": {
        "id": "W3xDX_nRMIxc"
      }
    },
    {
      "cell_type": "code",
      "source": [
        "#Convert True ke int\n",
        "\n",
        "int(True)"
      ],
      "metadata": {
        "colab": {
          "base_uri": "https://localhost:8080/"
        },
        "id": "W0GdZJhkNHLv",
        "outputId": "9a5255d2-4ed0-42f8-c086-a7afba5d93b7"
      },
      "execution_count": null,
      "outputs": [
        {
          "output_type": "execute_result",
          "data": {
            "text/plain": [
              "1"
            ]
          },
          "metadata": {},
          "execution_count": 50
        }
      ]
    },
    {
      "cell_type": "code",
      "source": [
        "#Convert 1 ke boolean\n",
        "\n",
        "bool(1)"
      ],
      "metadata": {
        "colab": {
          "base_uri": "https://localhost:8080/"
        },
        "id": "CZvzp46CLbv3",
        "outputId": "cdfee269-9934-46a0-f384-18212fbc2e21"
      },
      "execution_count": null,
      "outputs": [
        {
          "output_type": "execute_result",
          "data": {
            "text/plain": [
              "True"
            ]
          },
          "metadata": {},
          "execution_count": 51
        }
      ]
    },
    {
      "cell_type": "code",
      "source": [
        "#Convert 0 ke boolean\n",
        "\n",
        "bool(0)"
      ],
      "metadata": {
        "colab": {
          "base_uri": "https://localhost:8080/"
        },
        "id": "Lz9y-FhZNp8j",
        "outputId": "8e4c4976-0db1-42b2-904a-634ac5c7b403"
      },
      "execution_count": null,
      "outputs": [
        {
          "output_type": "execute_result",
          "data": {
            "text/plain": [
              "False"
            ]
          },
          "metadata": {},
          "execution_count": 52
        }
      ]
    },
    {
      "cell_type": "code",
      "source": [
        "float(0)"
      ],
      "metadata": {
        "colab": {
          "base_uri": "https://localhost:8080/"
        },
        "id": "8UCUr8nJNxhO",
        "outputId": "9feb8a1a-8710-43af-9b27-8ddd1da98446"
      },
      "execution_count": null,
      "outputs": [
        {
          "output_type": "execute_result",
          "data": {
            "text/plain": [
              "0.0"
            ]
          },
          "metadata": {},
          "execution_count": 53
        }
      ]
    },
    {
      "cell_type": "markdown",
      "source": [
        "Contoh types\n",
        "\n",
        "apa hasil data dari 6/2?"
      ],
      "metadata": {
        "id": "jW4lisfyN52y"
      }
    },
    {
      "cell_type": "code",
      "source": [
        "type(6/2)"
      ],
      "metadata": {
        "colab": {
          "base_uri": "https://localhost:8080/"
        },
        "id": "-Qt3HduSOBgF",
        "outputId": "08775dd2-332e-45bd-c990-27dacff96b58"
      },
      "execution_count": null,
      "outputs": [
        {
          "output_type": "execute_result",
          "data": {
            "text/plain": [
              "float"
            ]
          },
          "metadata": {},
          "execution_count": 54
        }
      ]
    },
    {
      "cell_type": "markdown",
      "source": [
        "cara agar mengeluarkan hasil dengan duble slash(//)"
      ],
      "metadata": {
        "id": "JwX3sUgyONLI"
      }
    },
    {
      "cell_type": "code",
      "source": [
        "type(6//2)"
      ],
      "metadata": {
        "colab": {
          "base_uri": "https://localhost:8080/"
        },
        "id": "4Tw9iet8N178",
        "outputId": "1e277340-b9ad-4da0-aa9a-423359c20df4"
      },
      "execution_count": null,
      "outputs": [
        {
          "output_type": "execute_result",
          "data": {
            "text/plain": [
              "int"
            ]
          },
          "metadata": {},
          "execution_count": 55
        }
      ]
    },
    {
      "cell_type": "markdown",
      "source": [
        "jadi duble klick slash adalah solusinya (//)"
      ],
      "metadata": {
        "id": "82lrbuJsOeAS"
      }
    },
    {
      "cell_type": "markdown",
      "source": [
        "# **Expression** dan **Variable**"
      ],
      "metadata": {
        "id": "eV9aLRfgPzOv"
      }
    },
    {
      "cell_type": "markdown",
      "source": [
        "Expression dalam python dapat memasukan operasi compaitible typs (e.g., integar dan folat) contoh seperti, basic arithmetic operations"
      ],
      "metadata": {
        "id": "jcHUqt59QFf6"
      }
    },
    {
      "cell_type": "code",
      "source": [
        "#addition operation expression\n",
        "#43 + 60 + 16 + 41\n",
        "\n",
        "type(10.55+10.5-5)"
      ],
      "metadata": {
        "colab": {
          "base_uri": "https://localhost:8080/"
        },
        "id": "J7-kcAvmOb1A",
        "outputId": "dbed1391-ca9e-4c3a-e0e0-eea1743c1d25"
      },
      "execution_count": null,
      "outputs": [
        {
          "output_type": "execute_result",
          "data": {
            "text/plain": [
              "float"
            ]
          },
          "metadata": {},
          "execution_count": 56
        }
      ]
    },
    {
      "cell_type": "markdown",
      "source": [
        "kita dapat membuat operasi dengan mengunakan minus operator"
      ],
      "metadata": {
        "id": "US-g8HFGQ9oW"
      }
    },
    {
      "cell_type": "code",
      "source": [
        "type(50-60)"
      ],
      "metadata": {
        "colab": {
          "base_uri": "https://localhost:8080/"
        },
        "id": "XsFJ2BIfRIQr",
        "outputId": "eea3473e-2103-477e-c935-ff5a06491513"
      },
      "execution_count": null,
      "outputs": [
        {
          "output_type": "execute_result",
          "data": {
            "text/plain": [
              "int"
            ]
          },
          "metadata": {},
          "execution_count": 57
        }
      ]
    },
    {
      "cell_type": "markdown",
      "source": [
        "kita juga dapat mengoprasikan perkalian dengan mengunakan asterisk"
      ],
      "metadata": {
        "id": "0pJPGRjSRPU3"
      }
    },
    {
      "cell_type": "code",
      "source": [
        "# Multiplication operation expression\n",
        "5*25"
      ],
      "metadata": {
        "colab": {
          "base_uri": "https://localhost:8080/"
        },
        "id": "GaytZBLwRZDN",
        "outputId": "b1504c42-49ce-4756-dd4a-28ce2863c57e"
      },
      "execution_count": null,
      "outputs": [
        {
          "output_type": "execute_result",
          "data": {
            "text/plain": [
              "125"
            ]
          },
          "metadata": {},
          "execution_count": 58
        }
      ]
    },
    {
      "cell_type": "markdown",
      "source": [
        "kita juga dapat membagi bilangan dengan mengunakan slash (/)"
      ],
      "metadata": {
        "id": "GXS6enpNRxCY"
      }
    },
    {
      "cell_type": "code",
      "source": [
        "# Division operation expression\n",
        "25/5"
      ],
      "metadata": {
        "colab": {
          "base_uri": "https://localhost:8080/"
        },
        "id": "Bx6bh_8RR0aF",
        "outputId": "7afa067e-7bf0-4d86-9f9f-6fc1ec2e6510"
      },
      "execution_count": null,
      "outputs": [
        {
          "output_type": "execute_result",
          "data": {
            "text/plain": [
              "5.0"
            ]
          },
          "metadata": {},
          "execution_count": 60
        }
      ]
    },
    {
      "cell_type": "code",
      "source": [
        "# Division operation expression\n",
        "24/7"
      ],
      "metadata": {
        "colab": {
          "base_uri": "https://localhost:8080/"
        },
        "id": "w_yz7vjCR1tk",
        "outputId": "bdb18b5c-b4bb-4ab1-8266-fcfc9090bec0"
      },
      "execution_count": null,
      "outputs": [
        {
          "output_type": "execute_result",
          "data": {
            "text/plain": [
              "3.4285714285714284"
            ]
          },
          "metadata": {},
          "execution_count": 61
        }
      ]
    },
    {
      "cell_type": "markdown",
      "source": [
        "#  Expression"
      ],
      "metadata": {
        "id": "I_OrOUEaSR7W"
      }
    },
    {
      "cell_type": "code",
      "source": [],
      "metadata": {
        "id": "N-E8EP-SJnof"
      },
      "execution_count": null,
      "outputs": []
    },
    {
      "cell_type": "markdown",
      "source": [
        "mari kita menulis ekspersi berapa banyak jam dalam 160 menit"
      ],
      "metadata": {
        "id": "WozN9-cqScSR"
      }
    },
    {
      "cell_type": "code",
      "source": [
        "# ekspersi berapa banyak jam dalam 160 menit\n",
        "160/60"
      ],
      "metadata": {
        "colab": {
          "base_uri": "https://localhost:8080/"
        },
        "id": "XEBh5voaTBj0",
        "outputId": "41f182a3-4503-461f-b824-30bd1d85aed6"
      },
      "execution_count": null,
      "outputs": [
        {
          "output_type": "execute_result",
          "data": {
            "text/plain": [
              "2.6666666666666665"
            ]
          },
          "metadata": {},
          "execution_count": 62
        }
      ]
    },
    {
      "cell_type": "markdown",
      "source": [
        "Pyhton mngikuti kovesi matematika dengan baik untuk mengekspresikannya"
      ],
      "metadata": {
        "id": "Jjd06H_9TXDD"
      }
    },
    {
      "cell_type": "code",
      "source": [
        "# Mathematical expression\n",
        "\n",
        "30 + 4 * 60 // 10"
      ],
      "metadata": {
        "colab": {
          "base_uri": "https://localhost:8080/"
        },
        "id": "znS3SLmUTmqR",
        "outputId": "7b08c11a-ebdb-4c0f-bdc8-983ee6278068"
      },
      "execution_count": null,
      "outputs": [
        {
          "output_type": "execute_result",
          "data": {
            "text/plain": [
              "54"
            ]
          },
          "metadata": {},
          "execution_count": 64
        }
      ]
    },
    {
      "cell_type": "markdown",
      "source": [
        "# **Variable**\n",
        "sama seperti pembrogaman lain kita dapat menerima value terhadap variable"
      ],
      "metadata": {
        "id": "b0adCTQcT7X0"
      }
    },
    {
      "cell_type": "code",
      "source": [
        "from re import X\n",
        "#stor value diantara variable\n",
        "\n",
        "x = 21 + 32\n",
        "x"
      ],
      "metadata": {
        "colab": {
          "base_uri": "https://localhost:8080/"
        },
        "id": "5ZDMuqXmUWTo",
        "outputId": "82c99d1a-7669-4d9f-c82a-242c85f9f42a"
      },
      "execution_count": null,
      "outputs": [
        {
          "output_type": "execute_result",
          "data": {
            "text/plain": [
              "53"
            ]
          },
          "metadata": {},
          "execution_count": 68
        }
      ]
    },
    {
      "cell_type": "markdown",
      "source": [
        "total variable"
      ],
      "metadata": {
        "id": "JRDHzdQE3xUB"
      }
    },
    {
      "cell_type": "code",
      "source": [
        "total_min = 43 + 54 + 21\n",
        "total_min"
      ],
      "metadata": {
        "colab": {
          "base_uri": "https://localhost:8080/"
        },
        "id": "o9VoGdTI3jXR",
        "outputId": "0f7f292b-89d5-4227-8a95-32981a6f4e41"
      },
      "execution_count": null,
      "outputs": [
        {
          "output_type": "execute_result",
          "data": {
            "text/plain": [
              "118"
            ]
          },
          "metadata": {},
          "execution_count": 31
        }
      ]
    },
    {
      "cell_type": "code",
      "source": [],
      "metadata": {
        "id": "il6Lm08e4JHw"
      },
      "execution_count": null,
      "outputs": []
    },
    {
      "cell_type": "code",
      "source": [],
      "metadata": {
        "id": "S07vrnHC4G4I"
      },
      "execution_count": null,
      "outputs": []
    },
    {
      "cell_type": "markdown",
      "source": [
        "# SOAL KE 1 (week 2)\n",
        "\n",
        "\n"
      ],
      "metadata": {
        "id": "xLgVQKyUZjvJ"
      }
    },
    {
      "cell_type": "code",
      "source": [
        "from typing import ParamSpec\n",
        "Panjang = 20.5\n",
        "Lebar = 25\n",
        "Tinggi = 10\n",
        "Keliling =2*(Panjang+Lebar)\n",
        "luas = Panjang * Lebar\n",
        "volume = Panjang * Lebar * Tinggi\n",
        "\n",
        "print('panjang = 20,5')\n",
        "print('lebar = 25')\n",
        "print('Tinggi = 10')\n",
        "Keliling =2*(Panjang+Lebar)\n",
        "print('keliling = ',Keliling)\n",
        "luas = Panjang * Lebar\n",
        "print ('luas = ',luas)\n",
        "volume = (Panjang * Lebar * Tinggi)\n",
        "print ('volume =' ,volume)\n"
      ],
      "metadata": {
        "colab": {
          "base_uri": "https://localhost:8080/"
        },
        "id": "T3SbCpuvaS1N",
        "outputId": "5fc83617-a407-41cb-c916-e475dafc443d"
      },
      "execution_count": null,
      "outputs": [
        {
          "output_type": "stream",
          "name": "stdout",
          "text": [
            "panjang = 20,5\n",
            "lebar = 25\n",
            "Tinggi = 10\n",
            "keliling =  91.0\n",
            "luas =  512.5\n",
            "volume = 5125.0\n"
          ]
        }
      ]
    },
    {
      "cell_type": "code",
      "source": [
        "nilai_shafira = (85 + 75) / 2\n",
        "nilai_shafira"
      ],
      "metadata": {
        "colab": {
          "base_uri": "https://localhost:8080/"
        },
        "id": "mURHrH0I1psF",
        "outputId": "544dd691-042f-42e4-aa94-de125e3d167d"
      },
      "execution_count": null,
      "outputs": [
        {
          "output_type": "execute_result",
          "data": {
            "text/plain": [
              "80.0"
            ]
          },
          "metadata": {},
          "execution_count": 47
        }
      ]
    },
    {
      "cell_type": "code",
      "source": [
        "jumlah_nilai_hanif_dan_andi = 70 + 75 + 75 + 90\n",
        "jumlah_nilai_hanif_dan_andi"
      ],
      "metadata": {
        "colab": {
          "base_uri": "https://localhost:8080/"
        },
        "id": "l4qBgFTfQ87a",
        "outputId": "d9626f1f-73a7-48a4-dcd7-1eecab6643fb"
      },
      "execution_count": null,
      "outputs": [
        {
          "output_type": "execute_result",
          "data": {
            "text/plain": [
              "310"
            ]
          },
          "metadata": {},
          "execution_count": 45
        }
      ]
    },
    {
      "cell_type": "code",
      "source": [
        "rata_rata_kalkulus = (80 + 85 + 85 + 95) / 4\n",
        "rata_rata_kalkulus"
      ],
      "metadata": {
        "colab": {
          "base_uri": "https://localhost:8080/"
        },
        "id": "4KWHua1VRCgH",
        "outputId": "d388e943-89bf-4c90-ce3c-3f3db280380d"
      },
      "execution_count": null,
      "outputs": [
        {
          "output_type": "execute_result",
          "data": {
            "text/plain": [
              "86.25"
            ]
          },
          "metadata": {},
          "execution_count": 46
        }
      ]
    },
    {
      "cell_type": "code",
      "source": [
        "rata_rata_statistika = (75 + 80 + 85 + 90) / 4\n",
        "rata_rata_statistika"
      ],
      "metadata": {
        "colab": {
          "base_uri": "https://localhost:8080/"
        },
        "id": "K_RNhpOVRFYH",
        "outputId": "34e4eac7-37a8-4584-a4b8-bd733915b907"
      },
      "execution_count": null,
      "outputs": [
        {
          "output_type": "execute_result",
          "data": {
            "text/plain": [
              "82.5"
            ]
          },
          "metadata": {},
          "execution_count": 48
        }
      ]
    },
    {
      "cell_type": "code",
      "source": [
        "rata_rata_nilai_kuliah_kalkulus = (70+75+75+80+80+85+85+85+95) / 9\n",
        "rata_rata_nilai_kuliah_kalkulus"
      ],
      "metadata": {
        "colab": {
          "base_uri": "https://localhost:8080/"
        },
        "id": "ghnrp42gSHax",
        "outputId": "450dad3b-bde1-4af4-c143-2cb1c67c09f7"
      },
      "execution_count": null,
      "outputs": [
        {
          "output_type": "execute_result",
          "data": {
            "text/plain": [
              "81.11111111111111"
            ]
          },
          "metadata": {},
          "execution_count": 50
        }
      ]
    },
    {
      "cell_type": "code",
      "source": [
        "rata_rata_nilai_kuliah_statistika = (75+90+80+80+85+90+75+85+75) / 9\n",
        "rata_rata_nilai_kuliah_statistika"
      ],
      "metadata": {
        "colab": {
          "base_uri": "https://localhost:8080/"
        },
        "id": "9h_tNimfTMAB",
        "outputId": "0f1174f8-4e82-4b97-aa20-5de84b2d51bb"
      },
      "execution_count": null,
      "outputs": [
        {
          "output_type": "execute_result",
          "data": {
            "text/plain": [
              "81.66666666666667"
            ]
          },
          "metadata": {},
          "execution_count": 51
        }
      ]
    },
    {
      "cell_type": "code",
      "source": [],
      "metadata": {
        "id": "032-Sv_aTh8R"
      },
      "execution_count": null,
      "outputs": []
    },
    {
      "cell_type": "code",
      "source": [
        "print('1.Rata-Rata nilai Shafira =' ,nilai_shafira)\n",
        "print('2.Jumlah nilai hanif dan andi =' ,jumlah_nilai_hanif_dan_andi)\n",
        "print('3.Rata-Rata nilai kalkulus widya, Dhanar, Hikma dan Nedia =' ,rata_rata_kalkulus)\n",
        "print('  Rata-Rata nilai statistika widya, Dhanar, Hikma dan Nedia =' ,rata_rata_statistika)\n",
        "print('4.Rata-Rata nilai mata kuliah kalkulus =',rata_rata_nilai_kuliah_kalkulus)\n",
        "print('5.Rata-Rata nilai mata kuliah statistika =',rata_rata_nilai_kuliah_statistika)"
      ],
      "metadata": {
        "colab": {
          "base_uri": "https://localhost:8080/"
        },
        "id": "pueEvLEh44ZH",
        "outputId": "d4458040-8ea3-4810-9298-fc886c2e7a84"
      },
      "execution_count": null,
      "outputs": [
        {
          "output_type": "stream",
          "name": "stdout",
          "text": [
            "1.Rata-Rata nilai Shafira = 80.0\n",
            "2.Jumlah nilai hanif dan andi = 310\n",
            "3.Rata-Rata nilai kalkulus widya, Dhanar, Hikma dan Nedia = 86.25\n",
            "  Rata-Rata nilai statistika widya, Dhanar, Hikma dan Nedia = 82.5\n",
            "4.Rata-Rata nilai mata kuliah kalkulus = 81.11111111111111\n",
            "5.Rata-Rata nilai mata kuliah statistika = 81.66666666666667\n"
          ]
        }
      ]
    },
    {
      "cell_type": "code",
      "source": [
        "from abc import update_abstractmethods\n",
        "perhari = 8 #jam\n",
        "perjam = 30000\n",
        "bulan_agustus = 31 #hari\n",
        "hari_tidak_masuk = 3\n",
        "tunjangan = 10/100\n",
        "gaji_tiap_bulan = 2400000\n",
        "upah_lembur_bulan_agustus = 1550000\n",
        "\n",
        "x =(bulan_agustus-3)*perhari\n",
        "x\n",
        "print('1.Gaji pada bulan agustus =',x*perjam)\n",
        "print('2.Tunjangan yang diterima pada bulan agustus =',gaji_tiap_bulan*tunjangan)\n",
        "print('3. Total gaji + lebur Dwi =',gaji_tiap_bulan+upah_lembur_bulan_agustus)"
      ],
      "metadata": {
        "colab": {
          "base_uri": "https://localhost:8080/"
        },
        "id": "3MKUdbn652z9",
        "outputId": "f4443b6a-7db3-4ec8-bb08-b4aa1a075483"
      },
      "execution_count": null,
      "outputs": [
        {
          "output_type": "stream",
          "name": "stdout",
          "text": [
            "1.Gaji pada bulan agustus = 6720000\n",
            "2.Tunjangan yang diterima pada bulan agustus = 240000.0\n",
            "3. Total gaji + lebur Dwi = 3950000\n"
          ]
        }
      ]
    },
    {
      "cell_type": "code",
      "source": [],
      "metadata": {
        "id": "FGhld8w81oeT"
      },
      "execution_count": null,
      "outputs": []
    },
    {
      "cell_type": "code",
      "source": [],
      "metadata": {
        "id": "Gpf0yt04Y1il"
      },
      "execution_count": null,
      "outputs": []
    }
  ]
}