{
  "nbformat": 4,
  "nbformat_minor": 0,
  "metadata": {
    "colab": {
      "provenance": []
    },
    "kernelspec": {
      "name": "python3",
      "display_name": "Python 3"
    },
    "language_info": {
      "name": "python"
    }
  },
  "cells": [
    {
      "cell_type": "code",
      "execution_count": null,
      "metadata": {
        "colab": {
          "base_uri": "https://localhost:8080/"
        },
        "id": "zLxtXRqARWMC",
        "outputId": "072007b9-c668-4476-c256-2fce9889b7fd"
      },
      "outputs": [
        {
          "output_type": "stream",
          "name": "stdout",
          "text": [
            "masukan Nomer:21\n",
            "Jumlah angka genap: 8\n",
            "Jumlah angka ganjil: 2\n"
          ]
        }
      ],
      "source": [
        "npm = input(\"masukan Nomer:\")\n",
        "nomer = 2440506069\n",
        "\n",
        "bilangan_str = str(nomer)\n",
        "\n",
        "jumlah_genap = 0\n",
        "jumlah_ganjil = 0\n",
        "\n",
        "\n",
        "for digit in bilangan_str:\n",
        "    angka = int(digit)\n",
        "    if angka % 2 == 0:\n",
        "        jumlah_genap += 1\n",
        "    else:\n",
        "        jumlah_ganjil += 1\n",
        "\n",
        "\n",
        "print(f\"Jumlah angka genap: {jumlah_genap}\")\n",
        "print(f\"Jumlah angka ganjil: {jumlah_ganjil}\")"
      ]
    },
    {
      "cell_type": "code",
      "source": [
        "nomer = int(input(\"masukan nomer: \"))\n",
        "\n",
        "for i in range (1, nomer + 1):\n",
        "    for j in range (1, i + 1):\n",
        "        print(i * j, end=\"\")\n",
        "    print()"
      ],
      "metadata": {
        "colab": {
          "base_uri": "https://localhost:8080/"
        },
        "id": "viVLAAbeTuEY",
        "outputId": "af80c5c8-9493-4196-d792-443197cd02b2"
      },
      "execution_count": null,
      "outputs": [
        {
          "output_type": "stream",
          "name": "stdout",
          "text": [
            "masukan nomer: 12\n",
            "1\n",
            "24\n",
            "369\n",
            "481216\n",
            "510152025\n",
            "61218243036\n",
            "7142128354249\n",
            "816243240485664\n",
            "91827364554637281\n",
            "102030405060708090100\n",
            "112233445566778899110121\n",
            "1224364860728496108120132144\n"
          ]
        }
      ]
    }
  ]
}