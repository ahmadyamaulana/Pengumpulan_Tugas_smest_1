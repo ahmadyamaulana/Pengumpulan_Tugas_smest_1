{
  "nbformat": 4,
  "nbformat_minor": 0,
  "metadata": {
    "colab": {
      "provenance": []
    },
    "kernelspec": {
      "name": "python3",
      "display_name": "Python 3"
    },
    "language_info": {
      "name": "python"
    }
  },
  "cells": [
    {
      "cell_type": "markdown",
      "source": [
        "\n",
        "\n",
        "# **Loops in Python**\n",
        "\n"
      ],
      "metadata": {
        "id": "08j3d6yhqBD2"
      }
    },
    {
      "cell_type": "code",
      "execution_count": null,
      "metadata": {
        "colab": {
          "base_uri": "https://localhost:8080/"
        },
        "id": "4o5RFmfbpyrW",
        "outputId": "ab1acb4f-f60d-4d0a-9800-6cfc20148851"
      },
      "outputs": [
        {
          "output_type": "stream",
          "name": "stdout",
          "text": [
            "2 * 4 =  8\n",
            "2 * 6 =  12\n",
            "4 * 2 =  8\n",
            "4 * 6 =  24\n",
            "6 * 2 =  12\n",
            "6 * 4 =  24\n"
          ]
        }
      ],
      "source": [
        "first = [2, 4, 6]\n",
        "second = [2, 4, 6]\n",
        "for i in first:\n",
        "    for j in second:\n",
        "        if i == j:\n",
        "            continue\n",
        "        print(i, '*', j, '= ', i * j)"
      ]
    },
    {
      "cell_type": "code",
      "source": [
        "i = 1\n",
        "while i <= 5:\n",
        "    j = 1\n",
        "    while j <= 10:\n",
        "        print(j, end='')\n",
        "        j = j + 1\n",
        "    i = i + 1\n",
        "    print()"
      ],
      "metadata": {
        "id": "EbbyxCu3qhqr",
        "colab": {
          "base_uri": "https://localhost:8080/"
        },
        "outputId": "697fda75-d2ce-4923-a3b3-9a17dd6597bd"
      },
      "execution_count": null,
      "outputs": [
        {
          "output_type": "stream",
          "name": "stdout",
          "text": [
            "12345678910\n",
            "12345678910\n",
            "12345678910\n",
            "12345678910\n",
            "12345678910\n"
          ]
        }
      ]
    },
    {
      "cell_type": "markdown",
      "source": [
        "# **Weekly 1**"
      ],
      "metadata": {
        "id": "2UEiXJrACmmS"
      }
    },
    {
      "cell_type": "code",
      "source": [
        "n = int(input(\"Nomer yang anda masukan: \"))\n",
        "\n",
        "for i in range(n):\n",
        "    jarak = \" \" * (n - i - 1)\n",
        "    bintang = \"* \" * ( i + 1)\n",
        "    print(jarak + bintang)"
      ],
      "metadata": {
        "colab": {
          "base_uri": "https://localhost:8080/"
        },
        "id": "OXpFJyZOGsEK",
        "outputId": "5fe3f723-5b8d-4c28-d1c4-9c51a339f7cb"
      },
      "execution_count": null,
      "outputs": [
        {
          "output_type": "stream",
          "name": "stdout",
          "text": [
            "Nomer yang anda masukan: 6\n",
            "     * \n",
            "    * * \n",
            "   * * * \n",
            "  * * * * \n",
            " * * * * * \n",
            "* * * * * * \n"
          ]
        }
      ]
    },
    {
      "cell_type": "code",
      "source": [
        "n = int(input(\"Nomer yang anda masukan: \"))\n",
        "\n",
        "for i in range(n):\n",
        "    jarak = \" \" * (n - i - 1)\n",
        "    bintang = \"* \" * ( i + 1)\n",
        "    print(jarak + bintang)"
      ],
      "metadata": {
        "colab": {
          "base_uri": "https://localhost:8080/"
        },
        "id": "Q8PvoN6CL8o6",
        "outputId": "f47b8ae2-445b-4f9f-f28a-7bfd697df783"
      },
      "execution_count": null,
      "outputs": [
        {
          "output_type": "stream",
          "name": "stdout",
          "text": [
            "Nomer yang anda masukan: 2\n",
            " * \n",
            "* * \n"
          ]
        }
      ]
    },
    {
      "cell_type": "code",
      "source": [
        "n = int(input(\"Nomer yang anda masukan: \"))\n",
        "\n",
        "for i in range(n):\n",
        "    jarak = \" \" * (n - i - 1)\n",
        "    bintang = \"* \" * ( i + 1)\n",
        "    print(jarak + bintang)"
      ],
      "metadata": {
        "colab": {
          "base_uri": "https://localhost:8080/"
        },
        "id": "nmLkt2eZMDRe",
        "outputId": "88bd7781-cbd5-4737-f432-571baf55e4e9"
      },
      "execution_count": null,
      "outputs": [
        {
          "output_type": "stream",
          "name": "stdout",
          "text": [
            "Nomer yang anda masukan: 3\n",
            "  * \n",
            " * * \n",
            "* * * \n"
          ]
        }
      ]
    },
    {
      "cell_type": "markdown",
      "source": [
        "# **Weekly 2**"
      ],
      "metadata": {
        "id": "7u_yGdq8CzX-"
      }
    },
    {
      "cell_type": "code",
      "source": [
        "from math import factorial\n",
        "\n",
        "n = int(input(\"angka yang anda masukan: \"))\n",
        "for i in range(n):\n",
        "    for j in range(n-i+1):\n",
        "\n",
        "      print(end=\" \")\n",
        "\n",
        "    for j in range(i+1):\n",
        "\n",
        "      print(factorial(i) // (factorial(j) * factorial(i-j)),end=\" \")\n",
        "\n",
        "    print()\n"
      ],
      "metadata": {
        "colab": {
          "base_uri": "https://localhost:8080/"
        },
        "id": "Qk0k6F4OMtig",
        "outputId": "18491d7b-73ac-4c8f-8027-54074a2eee11"
      },
      "execution_count": null,
      "outputs": [
        {
          "output_type": "stream",
          "name": "stdout",
          "text": [
            "angka yang anda masukan: 4\n",
            "     1 \n",
            "    1 1 \n",
            "   1 2 1 \n",
            "  1 3 3 1 \n"
          ]
        }
      ]
    },
    {
      "cell_type": "code",
      "source": [
        "from math import factorial\n",
        "\n",
        "n = int(input(\"angka yang anda masukan: \"))\n",
        "for i in range(n):\n",
        "    for j in range(n-i+1):\n",
        "\n",
        "      print(end=\" \")\n",
        "\n",
        "    for j in range(i+1):\n",
        "\n",
        "      print(factorial(i) // (factorial(j) * factorial(i-j)),end=\" \")\n",
        "\n",
        "    print()\n"
      ],
      "metadata": {
        "colab": {
          "base_uri": "https://localhost:8080/"
        },
        "id": "OhmgxEV__r-N",
        "outputId": "4ecf24ee-443b-4e63-d039-a9ddd7689aa2"
      },
      "execution_count": null,
      "outputs": [
        {
          "output_type": "stream",
          "name": "stdout",
          "text": [
            "angka yang anda masukan: 2\n",
            "   1 \n",
            "  1 1 \n"
          ]
        }
      ]
    },
    {
      "cell_type": "code",
      "source": [
        "from math import factorial\n",
        "\n",
        "n = int(input(\"angka yang anda masukan: \"))\n",
        "for i in range(n):\n",
        "    for j in range(n-i+1):\n",
        "\n",
        "      print(end=\" \")\n",
        "\n",
        "    for j in range(i+1):\n",
        "\n",
        "      print(factorial(i) // (factorial(j) * factorial(i-j)),end=\" \")\n",
        "\n",
        "    print()\n"
      ],
      "metadata": {
        "colab": {
          "base_uri": "https://localhost:8080/"
        },
        "id": "Ja3z5glC_syl",
        "outputId": "3d9e72c3-dbf0-4175-9e99-25123696a38a"
      },
      "execution_count": null,
      "outputs": [
        {
          "output_type": "stream",
          "name": "stdout",
          "text": [
            "angka yang anda masukan: 3\n",
            "    1 \n",
            "   1 1 \n",
            "  1 2 1 \n"
          ]
        }
      ]
    },
    {
      "cell_type": "markdown",
      "source": [
        "# **Weekly 3**"
      ],
      "metadata": {
        "id": "j5to0EiEDCsH"
      }
    },
    {
      "cell_type": "code",
      "source": [
        "nilai = int(input(\"Masukkan Baris yang Diinginkan: \"))\n",
        "\n",
        "baris = [1]\n",
        "jumlah_baris = 1\n",
        "\n",
        "for i in range(1, nilai):\n",
        "    baris_baru = [1]\n",
        "    for j in range(1, len(baris)):\n",
        "        nilai_baru = baris[j - 1] + baris[j]\n",
        "        baris_baru.append(nilai_baru)\n",
        "        jumlah_baris += nilai_baru\n",
        "    baris_baru.append(1)\n",
        "    baris = baris_baru\n",
        "\n",
        "print(\"Angka di Satu Baris Segitiga Pascal:\")\n",
        "for angka in baris:\n",
        "      print(angka, end=\" \")\n"
      ],
      "metadata": {
        "colab": {
          "base_uri": "https://localhost:8080/"
        },
        "id": "vPPTuQSuQGDq",
        "outputId": "9dcce7da-9afc-4341-a6c7-414b45131be7"
      },
      "execution_count": 3,
      "outputs": [
        {
          "output_type": "stream",
          "name": "stdout",
          "text": [
            "Masukkan Baris yang Diinginkan: 2\n",
            "Angka di Satu Baris Segitiga Pascal:\n",
            "1 1 "
          ]
        }
      ]
    },
    {
      "cell_type": "code",
      "source": [
        "nilai = int(input(\"Masukkan Baris yang Diinginkan: \"))\n",
        "\n",
        "baris = [1]\n",
        "jumlah_baris = 1\n",
        "\n",
        "for i in range(1, nilai):\n",
        "    baris_baru = [1]\n",
        "    for j in range(1, len(baris)):\n",
        "        nilai_baru = baris[j - 1] + baris[j]\n",
        "        baris_baru.append(nilai_baru)\n",
        "        jumlah_baris += nilai_baru\n",
        "    baris_baru.append(1)\n",
        "    baris = baris_baru\n",
        "\n",
        "print(\"Angka di Satu Baris Segitiga Pascal:\")\n",
        "for angka in baris:\n",
        "      print(angka, end=\" \")\n"
      ],
      "metadata": {
        "id": "DvyUA8OgAZDc",
        "outputId": "5083437b-56bc-4e49-e9fa-b3c87a986190",
        "colab": {
          "base_uri": "https://localhost:8080/"
        }
      },
      "execution_count": null,
      "outputs": [
        {
          "output_type": "stream",
          "name": "stdout",
          "text": [
            "Masukkan Baris yang Diinginkan: 3\n",
            "Angka di Satu Baris Segitiga Pascal:\n",
            "1 2 1 "
          ]
        }
      ]
    }
  ]
}