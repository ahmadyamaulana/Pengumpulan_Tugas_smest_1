{
  "cells": [
    {
      "cell_type": "code",
      "execution_count": 3,
      "metadata": {
        "colab": {
          "base_uri": "https://localhost:8080/"
        },
        "id": "xWPq8fWsZmkG",
        "outputId": "8a4b70d4-2454-4b8b-a77a-5bb9cc168e74"
      },
      "outputs": [
        {
          "output_type": "stream",
          "name": "stdout",
          "text": [
            "Pilih Bangun Datar:\n",
            "    1. Lingkaran\n",
            "    2. Persegi\n",
            "    3. Segitiga\n",
            "    4. keluar\n",
            "Angka tidak boleh kosong\n",
            "Pilih Bangun Datar:\n",
            "    1. Lingkaran\n",
            "    2. Persegi\n",
            "    3. Segitiga\n",
            "    4. keluar\n",
            "\n",
            "Lingkaran\n",
            "Luas Lingkaran:  50.24\n",
            "Pilih Bangun Datar:\n",
            "    1. Lingkaran\n",
            "    2. Persegi\n",
            "    3. Segitiga\n",
            "    4. keluar\n",
            "Masukkan pilihan: 4\n",
            "\n",
            "anda telah keluar\n"
          ]
        }
      ],
      "source": [
        "def luas_lingkaran(r):\n",
        "  luas = 3.14*r**2\n",
        "  return luas\n",
        "def luas_persegi(s):\n",
        "  luas = s**2\n",
        "  return luas\n",
        "def luas_segitiga(a,t):\n",
        "  luas = 0.5*a*t\n",
        "  return luas\n",
        "def fungsi():\n",
        "\n",
        "\n",
        "  while True:\n",
        "    print('''Pilih Bangun Datar:\n",
        "    1. Lingkaran\n",
        "    2. Persegi\n",
        "    3. Segitiga\n",
        "    4. keluar''')\n",
        "\n",
        "    try:\n",
        "      n = int(input(\"Masukkan pilihan: \"))\n",
        "      print()\n",
        "    except ValueError:\n",
        "        print(\"Angka tidak boleh kosong\")\n",
        "        continue\n",
        "    if n == 1:\n",
        "      print(\"Lingkaran\")\n",
        "      try:\n",
        "        r = float(input(\"Masukkan jari-jari: \"))\n",
        "        luas = luas_lingkaran(r)\n",
        "        print(\"Luas Lingkaran: \",luas)\n",
        "      except ValueError:\n",
        "        print(\"Masukkan angka\")\n",
        "    elif n == 2:\n",
        "      print(\"Persegi\")\n",
        "      try:\n",
        "        s = float(input(\"Masukkan sisi: \"))\n",
        "        luas = luas_persegi(s)\n",
        "        print(\"Luas Persegi: \",luas)\n",
        "      except ValueError:\n",
        "        print(\"Masukkan angka\")\n",
        "    elif n == 3:\n",
        "      print(\"Segitiga\")\n",
        "      try:\n",
        "        a = float(input(\"Masukkan alas: \"))\n",
        "        t = float(input(\"Masukkan tinggi: \"))\n",
        "        luas = luas_segitiga(a,t)\n",
        "        print(\"Luas Segitiga: \",luas)\n",
        "      except ValueError:\n",
        "        print(\"Masukkan angka\")\n",
        "    elif n == 4:\n",
        "      print(\"anda telah keluar\")\n",
        "      break\n",
        "    else:\n",
        "      print(\"Pilihan tidak ada\")\n",
        "      print()\n",
        "\n",
        "fungsi()\n"
      ]
    },
    {
      "cell_type": "code",
      "execution_count": null,
      "metadata": {
        "colab": {
          "base_uri": "https://localhost:8080/"
        },
        "id": "l69VNryDhT1_",
        "outputId": "3c2b967c-1141-4566-9309-b35d51cc642c"
      },
      "outputs": [
        {
          "name": "stdout",
          "output_type": "stream",
          "text": [
            "masukan Nomer:h\n",
            "error\n"
          ]
        }
      ],
      "source": [
        "try:\n",
        "  npm = input(\"masukan Nomer:\")\n",
        "\n",
        "  bilangan_str = str(npm)\n",
        "\n",
        "  jumlah_genap = 0\n",
        "  jumlah_ganjil = 0\n",
        "\n",
        "\n",
        "  for digit in bilangan_str:\n",
        "      angka = int(digit)\n",
        "      if angka % 2 == 0:\n",
        "          jumlah_genap += 1\n",
        "      else:\n",
        "          jumlah_ganjil += 1\n",
        "\n",
        "\n",
        "  print(f\"Jumlah angka genap: {jumlah_genap}\")\n",
        "  print(f\"Jumlah angka ganjil: {jumlah_ganjil}\")\n",
        "except:\n",
        "  print(\"error\")"
      ]
    },
    {
      "cell_type": "code",
      "execution_count": 2,
      "metadata": {
        "id": "kbcp4-HqtooM"
      },
      "outputs": [],
      "source": [
        "def luas_lingkaran(r):\n",
        "  luas = 3.14*r**2\n",
        "  return luas\n",
        "def luas_persegi(s):\n",
        "  luas = s**2\n",
        "  return luas\n",
        "def luas_segitiga(a,t):\n",
        "  luas = 0.5*a*t\n",
        "  return luas\n",
        "def fungsi():\n",
        "\n",
        "\n",
        "  while True:\n",
        "    print('''Pilih Bangun Datar:\n",
        "    1. Lingkaran\n",
        "    2. Persegi\n",
        "    3. Segitiga\n",
        "    4. keluar''')\n",
        "\n",
        "  try:\n",
        "    n = int(input(\"Masukkan pilihan: \"))\n",
        "    print()\n",
        "  except ValueError:\n",
        "        print(\"Angka tidak boleh kosong\")\n",
        "  if n == 1:\n",
        "      print(\"Lingkaran\")\n",
        "      try:\n",
        "        r = float(input(\"Masukkan jari-jari: \"))\n",
        "        luas = luas_lingkaran(r)\n",
        "        print(\"Luas Lingkaran: \",luas)\n",
        "      except ValueError:\n",
        "        print(\"Masukkan angka\")\n",
        "  elif n == 2:\n",
        "      print(\"Persegi\")\n",
        "      try:\n",
        "        s = float(input(\"Masukkan sisi: \"))\n",
        "        luas = luas_persegi(s)\n",
        "        print(\"Luas Persegi: \",luas)\n",
        "      except ValueError:\n",
        "        print(\"Masukkan angka\")\n",
        "  elif n == 3:\n",
        "      print(\"Segitiga\")\n",
        "      try:\n",
        "        a = float(input(\"Masukkan alas: \"))\n",
        "        t = float(input(\"Masukkan tinggi: \"))\n",
        "        luas = luas_segitiga(a,t)\n",
        "        print(\"Luas Segitiga: \",luas)\n",
        "      except ValueError:\n",
        "        print(\"Masukkan angka\")"
      ]
    }
  ],
  "metadata": {
    "colab": {
      "provenance": []
    },
    "kernelspec": {
      "display_name": "Python 3",
      "name": "python3"
    },
    "language_info": {
      "name": "python"
    }
  },
  "nbformat": 4,
  "nbformat_minor": 0
}