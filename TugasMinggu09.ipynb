{
  "nbformat": 4,
  "nbformat_minor": 0,
  "metadata": {
    "colab": {
      "provenance": []
    },
    "kernelspec": {
      "name": "python3",
      "display_name": "Python 3"
    },
    "language_info": {
      "name": "python"
    }
  },
  "cells": [
    {
      "cell_type": "code",
      "execution_count": null,
      "metadata": {
        "id": "x6Jxqjqk-45T",
        "colab": {
          "base_uri": "https://localhost:8080/"
        },
        "outputId": "d2e068e6-0360-4b71-e39b-a70a5eaa6d71"
      },
      "outputs": [
        {
          "output_type": "stream",
          "name": "stdout",
          "text": [
            "Nama: Ahmada Nur Maulana Bafakih\n",
            "Kelas: Rombel 2\n",
            "Tanggal Lahir: 26 Oktober 2002\n",
            "No HP: 085743752135\n",
            "Alamat: RT 01 RW 01, wates, magelang utara, kota Magelang\n",
            "Hobi:\n",
            "  - 1. Bermain\n",
            "  - 2. Nonton\n",
            "  - 3. Membaca\n"
          ]
        }
      ],
      "source": [
        "mahasiswa = {\n",
        "    'Nama': 'Ahmada Nur Maulana Bafakih',\n",
        "    'Kelas': 'Rombel 2',\n",
        "    'Tanggal Lahir': '26 Oktober 2002',\n",
        "    'No HP': '085743752135',\n",
        "    'Alamat': 'RT 01 RW 01, wates, magelang utara, kota Magelang',\n",
        "    'Hobi': ['1. Bermain', '2. Nonton', '3. Membaca']\n",
        "}\n",
        "\n",
        "for key, value in mahasiswa.items():\n",
        "    if key == 'Hobi':\n",
        "        print(f\"{key}:\")\n",
        "        for hobi in value:\n",
        "            print(f\"  - {hobi}\")\n",
        "    else:\n",
        "        print(f\"{key}: {value}\")"
      ]
    }
  ]
}