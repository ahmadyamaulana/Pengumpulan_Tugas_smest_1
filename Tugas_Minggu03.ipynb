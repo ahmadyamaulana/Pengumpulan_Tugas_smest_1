{
  "nbformat": 4,
  "nbformat_minor": 0,
  "metadata": {
    "colab": {
      "provenance": []
    },
    "kernelspec": {
      "name": "python3",
      "display_name": "Python 3"
    },
    "language_info": {
      "name": "python"
    }
  },
  "cells": [
    {
      "cell_type": "markdown",
      "source": [
        "# **Basic Output in Python**"
      ],
      "metadata": {
        "id": "YnwWa-P5YY_0"
      }
    },
    {
      "cell_type": "markdown",
      "source": [
        "Di Python, kita dapat mengunakan perintah *Print()*, contoh:"
      ],
      "metadata": {
        "id": "RSzKtrYlYj6X"
      }
    },
    {
      "cell_type": "code",
      "execution_count": null,
      "metadata": {
        "colab": {
          "base_uri": "https://localhost:8080/"
        },
        "id": "Khx21ggyYOnZ",
        "outputId": "0ba63b6c-85cf-4982-83c2-f96339067a5a"
      },
      "outputs": [
        {
          "output_type": "stream",
          "name": "stdout",
          "text": [
            "Hello, saya menggunakan Python\n"
          ]
        }
      ],
      "source": [
        "print('Hello, saya menggunakan Python')"
      ]
    },
    {
      "cell_type": "markdown",
      "source": [
        "disini *print()* berfungsi untuk memunculkan string dengan dijepit dengan dua tanda kurung"
      ],
      "metadata": {
        "id": "TK5yB_VGZGGz"
      }
    },
    {
      "cell_type": "markdown",
      "source": [
        "Objek  value untuk memunculkan yang di print\n",
        "\n",
        "- sep (optional)\n",
        "- end (optional)\n",
        "- file (optional)\n",
        "- flush (optional)"
      ],
      "metadata": {
        "id": "9FLlgQcQajks"
      }
    },
    {
      "cell_type": "code",
      "source": [
        "#contoh\n",
        "\n",
        "print('Selamat pagi dunia')\n",
        "print('Hari ini cuacanya cerah.')\n",
        "\n",
        "#contoh dengan diakhiri  end\n",
        "\n",
        "print('Selamat pagi dunia', end = ' ')\n",
        "print('Hari ini cuacanya cerah.')"
      ],
      "metadata": {
        "colab": {
          "base_uri": "https://localhost:8080/"
        },
        "id": "ifPCY8rEY6ob",
        "outputId": "7bd92279-06bc-4591-91c5-95f12e59ba0d"
      },
      "execution_count": null,
      "outputs": [
        {
          "output_type": "stream",
          "name": "stdout",
          "text": [
            "Selamat pagi dunia\n",
            "Hari ini cuacanya cerah.\n",
            "Selamat pagi dunia Hari ini cuacanya cerah.\n"
          ]
        }
      ]
    },
    {
      "cell_type": "markdown",
      "source": [
        "dengan contoh di atas end berfungsi sebagai penyambung terhadap kata pertama dan kata kedua"
      ],
      "metadata": {
        "id": "XJiszZCXbwC7"
      }
    },
    {
      "cell_type": "markdown",
      "source": [
        "# **Print Menghubungkan String**"
      ],
      "metadata": {
        "id": "OZbxzMDjcj6E"
      }
    },
    {
      "cell_type": "markdown",
      "source": [
        "Kita juga dapat menghubungkan 2 kode String."
      ],
      "metadata": {
        "id": "GXpk-KuhcqOs"
      }
    },
    {
      "cell_type": "code",
      "source": [
        "print('Teknologi Informasi' + 'Universitas Tidar')"
      ],
      "metadata": {
        "colab": {
          "base_uri": "https://localhost:8080/"
        },
        "id": "85xvfuo5cuQL",
        "outputId": "9dc8e194-e918-495e-cb7d-e05751d2b20c"
      },
      "execution_count": null,
      "outputs": [
        {
          "output_type": "stream",
          "name": "stdout",
          "text": [
            "Teknologi InformasiUniversitas Tidar\n"
          ]
        }
      ]
    },
    {
      "cell_type": "markdown",
      "source": [
        "tanda + mengoprasikan 2 string, jika berhasil maka kedua kode tersebut maka nyambung"
      ],
      "metadata": {
        "id": "yRNt475Nc7Cc"
      }
    },
    {
      "cell_type": "markdown",
      "source": [
        "# **Format Output**"
      ],
      "metadata": {
        "id": "Jy-97XngdIzn"
      }
    },
    {
      "cell_type": "markdown",
      "source": [
        "Terkadang kita ingin memformat Output kita agae lebih menarik, contoh"
      ],
      "metadata": {
        "id": "Oi2bfoH-dUfU"
      }
    },
    {
      "cell_type": "code",
      "source": [
        "x = 1\n",
        "y = 2\n",
        "\n",
        "print('Value dari x adalah {} dan y adalah {}'.format(x,y))"
      ],
      "metadata": {
        "colab": {
          "base_uri": "https://localhost:8080/"
        },
        "id": "Tj-aPwewdpYy",
        "outputId": "38917f5c-2dd8-4f8a-c2c4-501ba539f9bd"
      },
      "execution_count": null,
      "outputs": [
        {
          "output_type": "stream",
          "name": "stdout",
          "text": [
            "Value dari x adalah 1 dan y adalah 2\n"
          ]
        }
      ]
    },
    {
      "cell_type": "markdown",
      "source": [
        "# **Basic Input Pada Python**"
      ],
      "metadata": {
        "id": "LFuh7L5GeB_s"
      }
    },
    {
      "cell_type": "markdown",
      "source": [
        "Saat kita melakukan pemrograman, mungkin kita ingin mengambil input dari penguna. contoh."
      ],
      "metadata": {
        "id": "nDmmOjyqeOw7"
      }
    },
    {
      "cell_type": "markdown",
      "source": [
        "**Syntax pada Input**\n",
        "\n",
        "*Input(prompt)*\n",
        "\n",
        "disini ,prompt adalah string kita, dan berfungsi opsional."
      ],
      "metadata": {
        "id": "y8zkvcesecds"
      }
    },
    {
      "cell_type": "markdown",
      "source": [
        "**Python User Input**"
      ],
      "metadata": {
        "id": "0SyPWYZwe0x7"
      }
    },
    {
      "cell_type": "code",
      "source": [
        "# penguna menggunakan input() untuk mengambil user input\n",
        "num = input('Enter a Number')\n",
        "\n",
        "print('You entered:', num)\n",
        "\n",
        "print('Data type on num', type(num))"
      ],
      "metadata": {
        "colab": {
          "base_uri": "https://localhost:8080/"
        },
        "id": "UGE566z8e4is",
        "outputId": "3129e595-ea4a-4720-ee32-ee3c0227cd0d"
      },
      "execution_count": null,
      "outputs": [
        {
          "output_type": "stream",
          "name": "stdout",
          "text": [
            "Enter a Number12\n",
            "You entered: 12\n",
            "Data type on num <class 'str'>\n"
          ]
        }
      ]
    },
    {
      "cell_type": "markdown",
      "source": [
        "contoh di atas, kita harus menggunakan *input()* yang berfungsi untuk mengambil dari user dan menyetorkan user input pada *num* variable\n",
        "\n",
        "untuk menconvert user input menuju nomer kita dapet mengunakan *Int()* atau *float()*"
      ],
      "metadata": {
        "id": "Jb4ZJ7XwfbIs"
      }
    },
    {
      "cell_type": "markdown",
      "source": [
        "# **Reading Files Python**"
      ],
      "metadata": {
        "id": "rKCxUHwkgNeN"
      }
    },
    {
      "cell_type": "markdown",
      "source": [
        "**Download Data**"
      ],
      "metadata": {
        "id": "gbB3DG-SgSmU"
      }
    },
    {
      "cell_type": "code",
      "source": [
        "!pip install wget"
      ],
      "metadata": {
        "colab": {
          "base_uri": "https://localhost:8080/"
        },
        "id": "02uYT7VAgUbe",
        "outputId": "f50e2d0b-dc80-4ce9-e7ef-19dffcce92e5"
      },
      "execution_count": null,
      "outputs": [
        {
          "output_type": "stream",
          "name": "stdout",
          "text": [
            "Collecting wget\n",
            "  Downloading wget-3.2.zip (10 kB)\n",
            "  Preparing metadata (setup.py) ... \u001b[?25l\u001b[?25hdone\n",
            "Building wheels for collected packages: wget\n",
            "  Building wheel for wget (setup.py) ... \u001b[?25l\u001b[?25hdone\n",
            "  Created wheel for wget: filename=wget-3.2-py3-none-any.whl size=9656 sha256=29f69e332cc9bd4def0d0980fa3aed62b6b88cae3551ae4d2ad3a6fa49061d6f\n",
            "  Stored in directory: /root/.cache/pip/wheels/8b/f1/7f/5c94f0a7a505ca1c81cd1d9208ae2064675d97582078e6c769\n",
            "Successfully built wget\n",
            "Installing collected packages: wget\n",
            "Successfully installed wget-3.2\n"
          ]
        }
      ]
    },
    {
      "cell_type": "code",
      "source": [
        "#download file (terserah anda)\n",
        "!mkdir -p /resources/data\n",
        "!wget -O /resources/data/Example1.txt https://s3-api.us-geo.objectstorage.softlayer.net/cf-courses-data/CognitiveClass/PY0101EN/labs/example1.txt\n"
      ],
      "metadata": {
        "colab": {
          "base_uri": "https://localhost:8080/"
        },
        "id": "IZYL9YnogWMv",
        "outputId": "845fc9fb-674f-4919-d691-d92dfde72277"
      },
      "execution_count": null,
      "outputs": [
        {
          "output_type": "stream",
          "name": "stdout",
          "text": [
            "--2024-09-09 04:55:28--  https://s3-api.us-geo.objectstorage.softlayer.net/cf-courses-data/CognitiveClass/PY0101EN/labs/example1.txt\n",
            "Resolving s3-api.us-geo.objectstorage.softlayer.net (s3-api.us-geo.objectstorage.softlayer.net)... 67.228.254.196\n",
            "Connecting to s3-api.us-geo.objectstorage.softlayer.net (s3-api.us-geo.objectstorage.softlayer.net)|67.228.254.196|:443... connected.\n",
            "HTTP request sent, awaiting response... 200 OK\n",
            "Length: 45 [text/plain]\n",
            "Saving to: ‘/resources/data/Example1.txt’\n",
            "\n",
            "\r          /resource   0%[                    ]       0  --.-KB/s               \r/resources/data/Exa 100%[===================>]      45  --.-KB/s    in 0s      \n",
            "\n",
            "2024-09-09 04:55:28 (21.7 MB/s) - ‘/resources/data/Example1.txt’ saved [45/45]\n",
            "\n"
          ]
        }
      ]
    },
    {
      "cell_type": "markdown",
      "source": [
        "Reading Text File\n",
        "\n",
        "Salah satu cara membaca atau menulis pada python adalah dengan mengunakan *open()* fungsion. fungsi menyediakan File objek yang berisi metode dan atribut untuk membaca dan menulis."
      ],
      "metadata": {
        "id": "hKCJY1d7g99j"
      }
    },
    {
      "cell_type": "markdown",
      "source": [
        "ada 2 mode argumen yang digunakan\n",
        "\n",
        "- r untuk membaca files\n",
        "- w untuk menulis files"
      ],
      "metadata": {
        "id": "kiQEBch7h69t"
      }
    },
    {
      "cell_type": "code",
      "source": [
        "example1 = \"/resources/data/Example1.txt\"\n",
        "file1 = open(example1, \"r\")"
      ],
      "metadata": {
        "id": "x4vT8Li-iHlx"
      },
      "execution_count": null,
      "outputs": []
    },
    {
      "cell_type": "code",
      "source": [
        "#cara melihat atribut\n",
        "file1.name"
      ],
      "metadata": {
        "colab": {
          "base_uri": "https://localhost:8080/",
          "height": 36
        },
        "id": "wt5eAeEQjFkF",
        "outputId": "0a614a5e-d77c-4caa-c80a-5dc1a9aceb4f"
      },
      "execution_count": null,
      "outputs": [
        {
          "output_type": "execute_result",
          "data": {
            "text/plain": [
              "'/resources/data/Example1.txt'"
            ],
            "application/vnd.google.colaboratory.intrinsic+json": {
              "type": "string"
            }
          },
          "metadata": {},
          "execution_count": 3
        }
      ]
    },
    {
      "cell_type": "code",
      "source": [
        "#cara meihat mode file\n",
        "file1.mode"
      ],
      "metadata": {
        "colab": {
          "base_uri": "https://localhost:8080/",
          "height": 36
        },
        "id": "z22ipws0jVe1",
        "outputId": "69ce80a9-79b3-445a-888c-4be579f65546"
      },
      "execution_count": null,
      "outputs": [
        {
          "output_type": "execute_result",
          "data": {
            "text/plain": [
              "'r'"
            ],
            "application/vnd.google.colaboratory.intrinsic+json": {
              "type": "string"
            }
          },
          "metadata": {},
          "execution_count": 4
        }
      ]
    },
    {
      "cell_type": "code",
      "source": [
        "FileContent = file1.read()\n",
        "FileContent"
      ],
      "metadata": {
        "colab": {
          "base_uri": "https://localhost:8080/",
          "height": 36
        },
        "id": "q5jafoHQifaO",
        "outputId": "3a4017dc-313b-417b-9634-eba4dff13606"
      },
      "execution_count": null,
      "outputs": [
        {
          "output_type": "execute_result",
          "data": {
            "text/plain": [
              "'This is line 1 \\nThis is line 2\\nThis is line 3'"
            ],
            "application/vnd.google.colaboratory.intrinsic+json": {
              "type": "string"
            }
          },
          "metadata": {},
          "execution_count": 5
        }
      ]
    },
    {
      "cell_type": "code",
      "source": [
        "# Print the file with '\\n' as a new line\n",
        "\n",
        "print(FileContent)"
      ],
      "metadata": {
        "colab": {
          "base_uri": "https://localhost:8080/"
        },
        "id": "7WFRHoEEjmjP",
        "outputId": "ba5b83c6-6992-4698-b7aa-d656f904f2d1"
      },
      "execution_count": null,
      "outputs": [
        {
          "output_type": "stream",
          "name": "stdout",
          "text": [
            "This is line 1 \n",
            "This is line 2\n",
            "This is line 3\n"
          ]
        }
      ]
    },
    {
      "cell_type": "code",
      "source": [
        "file1.close()"
      ],
      "metadata": {
        "id": "oyWEEJU4jr1O"
      },
      "execution_count": null,
      "outputs": []
    },
    {
      "cell_type": "markdown",
      "source": [
        "# **A Better Way to Open a File**"
      ],
      "metadata": {
        "id": "nCl_nz4Sj2RD"
      }
    },
    {
      "cell_type": "markdown",
      "source": [
        "meggunakan printah *with()* merupakan cara yeng lebih baik untuk membuka file"
      ],
      "metadata": {
        "id": "G9XnI_3mlQoc"
      }
    },
    {
      "cell_type": "code",
      "source": [
        "with open(example1, \"r\") as file1:\n",
        "    FileContent = file1.read()\n",
        "    print(FileContent)"
      ],
      "metadata": {
        "colab": {
          "base_uri": "https://localhost:8080/"
        },
        "id": "p-57hLuaj6ad",
        "outputId": "2ead36bc-52cb-4647-8a80-1442e3e3b36f"
      },
      "execution_count": null,
      "outputs": [
        {
          "output_type": "stream",
          "name": "stdout",
          "text": [
            "This is line 1 \n",
            "This is line 2\n",
            "This is line 3\n"
          ]
        }
      ]
    },
    {
      "cell_type": "markdown",
      "source": [
        "file objek tertutup, kamu dapat menverifikasi dengan menjalankan ikuti printah"
      ],
      "metadata": {
        "id": "3ZPEHElxllf4"
      }
    },
    {
      "cell_type": "code",
      "source": [
        "file1.closed"
      ],
      "metadata": {
        "colab": {
          "base_uri": "https://localhost:8080/"
        },
        "id": "Ao9W7L-0ltud",
        "outputId": "067f2eeb-862d-4678-c482-95530a8c7b26"
      },
      "execution_count": null,
      "outputs": [
        {
          "output_type": "execute_result",
          "data": {
            "text/plain": [
              "True"
            ]
          },
          "metadata": {},
          "execution_count": 9
        }
      ]
    },
    {
      "cell_type": "code",
      "source": [
        "# cara melihat content pada file\n",
        "print(FileContent)"
      ],
      "metadata": {
        "colab": {
          "base_uri": "https://localhost:8080/"
        },
        "id": "2YJ1_ja1bWXH",
        "outputId": "4267662c-adbb-48c2-8f9a-e7a9390c49f3"
      },
      "execution_count": null,
      "outputs": [
        {
          "output_type": "stream",
          "name": "stdout",
          "text": [
            "This is line 1 \n",
            "This is line 2\n",
            "This is line 3\n"
          ]
        }
      ]
    },
    {
      "cell_type": "markdown",
      "source": [
        "Kita tidak bisa membaca seluruh file, contoh, kita dapat membaca 4 karakter oleh seluruh parameter pada method *.read()*"
      ],
      "metadata": {
        "id": "t9AbXVJXmAr1"
      }
    },
    {
      "cell_type": "code",
      "source": [
        "with open(example1, \"r\") as file1:\n",
        "    print(file1.read(4))"
      ],
      "metadata": {
        "colab": {
          "base_uri": "https://localhost:8080/"
        },
        "id": "j8DBx4Z5mW0n",
        "outputId": "c48e3666-720f-43c8-e4f8-684597de8612"
      },
      "execution_count": null,
      "outputs": [
        {
          "output_type": "stream",
          "name": "stdout",
          "text": [
            "This\n"
          ]
        }
      ]
    },
    {
      "cell_type": "code",
      "source": [
        "with open(example1, \"r\") as file1:\n",
        "    print(file1.read(4))\n",
        "    print(file1.read(4))\n",
        "    print(file1.read(7))\n",
        "    print(file1.read(15))\n"
      ],
      "metadata": {
        "colab": {
          "base_uri": "https://localhost:8080/"
        },
        "id": "mDfPjbKGmYil",
        "outputId": "65ec545e-5548-455c-80e3-fcceec900a9b"
      },
      "execution_count": null,
      "outputs": [
        {
          "output_type": "stream",
          "name": "stdout",
          "text": [
            "This\n",
            " is \n",
            "line 1 \n",
            "\n",
            "This is line 2\n"
          ]
        }
      ]
    },
    {
      "cell_type": "markdown",
      "source": [
        "kita juga bisa memanggil langsung satu baris."
      ],
      "metadata": {
        "id": "XMjlOzfes5vP"
      }
    },
    {
      "cell_type": "code",
      "source": [
        "with open(example1, \"r\") as file1:\n",
        "    print(\"first line: \" + file1.readline())"
      ],
      "metadata": {
        "colab": {
          "base_uri": "https://localhost:8080/"
        },
        "id": "D5A4rELRs_Qd",
        "outputId": "243d4e8f-f93e-4683-a226-50b4246fbba5"
      },
      "execution_count": null,
      "outputs": [
        {
          "output_type": "stream",
          "name": "stdout",
          "text": [
            "first line: This is line 1 \n",
            "\n"
          ]
        }
      ]
    },
    {
      "cell_type": "markdown",
      "source": [
        "kita juga dapat menggunakan loop untuk mengulang setiap baris"
      ],
      "metadata": {
        "id": "cDHC3-9etJGf"
      }
    },
    {
      "cell_type": "code",
      "source": [
        "with open(example1,\"r\") as file1:\n",
        "        i = 0;\n",
        "        for line in file1:\n",
        "            print(\"Iteration\", str(i), \": \", line)\n",
        "            i = i + 1;"
      ],
      "metadata": {
        "colab": {
          "base_uri": "https://localhost:8080/"
        },
        "id": "-uddFhUBtWeG",
        "outputId": "d83fe1f1-f07d-4f89-b4ba-51993b8a684c"
      },
      "execution_count": null,
      "outputs": [
        {
          "output_type": "stream",
          "name": "stdout",
          "text": [
            "Iteration 0 :  This is line 1 \n",
            "\n",
            "Iteration 1 :  This is line 2\n",
            "\n",
            "Iteration 2 :  This is line 3\n"
          ]
        }
      ]
    },
    {
      "cell_type": "markdown",
      "source": [
        "# **Writing Files**\n",
        "\n",
        "kita dapat membuka file objek menggunakam method *write()* untuk menyimpan sebuah text file untuk list, untuk menulis mode, gunakan argument w"
      ],
      "metadata": {
        "id": "uW3aiEoptbHX"
      }
    },
    {
      "cell_type": "code",
      "source": [
        "!mkdir -p /resources/data"
      ],
      "metadata": {
        "id": "M4eEr-kst6dY"
      },
      "execution_count": null,
      "outputs": []
    },
    {
      "cell_type": "code",
      "source": [
        "with open('/resources/data/Example2.txt', 'w') as writefile:\n",
        "    writefile.write(\"This is line A\")"
      ],
      "metadata": {
        "id": "AaemHXeit12m"
      },
      "execution_count": null,
      "outputs": []
    },
    {
      "cell_type": "markdown",
      "source": [
        "kita dapat melihat file tersebut"
      ],
      "metadata": {
        "id": "6VrpK_Cpt_gW"
      }
    },
    {
      "cell_type": "code",
      "source": [
        "with open('/resources/data/Example2.txt', 'r') as testwritefile:\n",
        "    print(testwritefile.read())"
      ],
      "metadata": {
        "colab": {
          "base_uri": "https://localhost:8080/"
        },
        "id": "lPxVwN8MuB-t",
        "outputId": "e46b66bc-978d-4060-87a4-1f90d6fe9d10"
      },
      "execution_count": null,
      "outputs": [
        {
          "output_type": "stream",
          "name": "stdout",
          "text": [
            "This is line A\n"
          ]
        }
      ]
    },
    {
      "cell_type": "markdown",
      "source": [
        "kita juga dapat membuat lebih dari satu baris."
      ],
      "metadata": {
        "id": "pQCkPV04uGs_"
      }
    },
    {
      "cell_type": "code",
      "source": [
        "with open('/resources/data/Example2.txt', 'w') as writefile:\n",
        "    writefile.write(\"This is line A\\n\")\n",
        "    writefile.write(\"This is line B\\n\")"
      ],
      "metadata": {
        "id": "iBIVMLwouLRn"
      },
      "execution_count": null,
      "outputs": []
    },
    {
      "cell_type": "code",
      "source": [
        "# cek\n",
        "with open('/resources/data/Example2.txt', 'r') as testwritefile:\n",
        "    print(testwritefile.read())"
      ],
      "metadata": {
        "colab": {
          "base_uri": "https://localhost:8080/"
        },
        "id": "bIwBlE9OtB6m",
        "outputId": "2fe0f191-02ec-4998-b3ab-9d9ebc6d76a1"
      },
      "execution_count": null,
      "outputs": [
        {
          "output_type": "stream",
          "name": "stdout",
          "text": [
            "This is line A\n",
            "This is line B\n",
            "\n"
          ]
        }
      ]
    },
    {
      "cell_type": "markdown",
      "source": [
        "kita juga bisa membuat baris baru dengan mengunakan argumnet a"
      ],
      "metadata": {
        "id": "fQDD8Xt9udBt"
      }
    },
    {
      "cell_type": "code",
      "source": [
        "with open('/resources/data/Example2.txt', 'a') as testwritefile:\n",
        "    testwritefile.write(\"This is line C\\n\")"
      ],
      "metadata": {
        "id": "pJ2PMgaIuRdz"
      },
      "execution_count": null,
      "outputs": []
    },
    {
      "cell_type": "markdown",
      "source": [
        "kita menulis list untuk a"
      ],
      "metadata": {
        "id": "w6PnLmI6unr-"
      }
    },
    {
      "cell_type": "code",
      "source": [
        "Lines = [\"This is line A\\n\", \"This is line B\\n\", \"This is line C\\n\"]\n",
        "Lines"
      ],
      "metadata": {
        "colab": {
          "base_uri": "https://localhost:8080/"
        },
        "id": "pa5lSGSdubOG",
        "outputId": "30e82c5a-fb3f-4a10-b217-3b71ef6fdd03"
      },
      "execution_count": null,
      "outputs": [
        {
          "output_type": "execute_result",
          "data": {
            "text/plain": [
              "['This is line A\\n', 'This is line B\\n', 'This is line C\\n']"
            ]
          },
          "metadata": {},
          "execution_count": 20
        }
      ]
    },
    {
      "cell_type": "code",
      "source": [
        "with open('Example2.txt', 'w') as writefile:\n",
        "    for line in Lines:\n",
        "        print(line)\n",
        "        writefile.write(line)"
      ],
      "metadata": {
        "colab": {
          "base_uri": "https://localhost:8080/"
        },
        "id": "Ce5s93rSul-2",
        "outputId": "0213d2a0-1671-418a-ae7f-ccc2f82babf6"
      },
      "execution_count": null,
      "outputs": [
        {
          "output_type": "stream",
          "name": "stdout",
          "text": [
            "This is line A\n",
            "\n",
            "This is line B\n",
            "\n",
            "This is line C\n",
            "\n"
          ]
        }
      ]
    },
    {
      "cell_type": "code",
      "source": [
        "with open('Example2.txt', 'r') as testwritefile:\n",
        "    print(testwritefile.read())"
      ],
      "metadata": {
        "colab": {
          "base_uri": "https://localhost:8080/"
        },
        "id": "29EtXW4XyK2p",
        "outputId": "75159f48-9352-4ddb-fc34-9ab8eda861e4"
      },
      "execution_count": null,
      "outputs": [
        {
          "output_type": "stream",
          "name": "stdout",
          "text": [
            "This is line A\n",
            "This is line B\n",
            "This is line C\n",
            "\n"
          ]
        }
      ]
    },
    {
      "cell_type": "code",
      "source": [
        "with open('Example2.txt', 'r') as testwritefile:\n",
        "    print(testwritefile.read())"
      ],
      "metadata": {
        "colab": {
          "base_uri": "https://localhost:8080/"
        },
        "id": "MkprNrqTyC_v",
        "outputId": "69dd4393-c6c9-4963-ab2b-f2afae065dd7"
      },
      "execution_count": null,
      "outputs": [
        {
          "output_type": "stream",
          "name": "stdout",
          "text": [
            "This is line A\n",
            "This is line B\n",
            "This is line C\n",
            "\n"
          ]
        }
      ]
    },
    {
      "cell_type": "markdown",
      "source": [
        "# **Copy File**"
      ],
      "metadata": {
        "id": "KIyQp0jKu0w9"
      }
    },
    {
      "cell_type": "code",
      "source": [
        "# Copy file example2 ke example 3\n",
        "\n",
        "with open('Example2.txt','r') as readfile:\n",
        "    with open('Example3.txt','w') as writefile:\n",
        "          for line in readfile:\n",
        "                writefile.write(line)"
      ],
      "metadata": {
        "id": "naruiDP0uwG9"
      },
      "execution_count": null,
      "outputs": []
    },
    {
      "cell_type": "markdown",
      "source": [
        "cara melihat file yang kita copy sebagai berikut"
      ],
      "metadata": {
        "id": "CxbycqPiyr2A"
      }
    },
    {
      "cell_type": "code",
      "source": [
        "with open('Example3.txt','r') as testwritefile:\n",
        "    print(testwritefile.read())"
      ],
      "metadata": {
        "colab": {
          "base_uri": "https://localhost:8080/"
        },
        "id": "xAdR85-IyxT4",
        "outputId": "54e283f0-ca80-47f9-dc4c-cbc2ffb84bb2"
      },
      "execution_count": null,
      "outputs": [
        {
          "output_type": "stream",
          "name": "stdout",
          "text": [
            "This is line A\n",
            "This is line B\n",
            "This is line C\n",
            "\n"
          ]
        }
      ]
    },
    {
      "cell_type": "markdown",
      "source": [
        "# **Weekly 01**"
      ],
      "metadata": {
        "id": "z0tsK7l-y2KI"
      }
    },
    {
      "cell_type": "code",
      "source": [
        "with open('Biodata.txt', 'w') as writefile:\n",
        "    writefile.write(\"Nama   : Ahmada Nur Maulana\\n\")\n",
        "    writefile.write(\"Prodi  : S1 Teknologi Informasi\\n\")\n",
        "    writefile.write(\"Npm    : 2440506069\\n\")\n",
        "    writefile.write(\"Alamat : Magelang \\n\")\n",
        "    writefile.write(\"hobi   : banyak\\n\")\n",
        "    writefile.write(\"email  : ahmadamaulana66@gmail.com\\n\")"
      ],
      "metadata": {
        "id": "mn3ORC4Ky6-A"
      },
      "execution_count": null,
      "outputs": []
    },
    {
      "cell_type": "code",
      "source": [
        "with open(\"Biodata.txt\",\"r\") as me:\n",
        "  c = me.readlines()\n",
        "  print(c[0])\n",
        "  print(c[1])\n",
        "  print(c[5])"
      ],
      "metadata": {
        "colab": {
          "base_uri": "https://localhost:8080/"
        },
        "id": "ikI7n2Rb7pdI",
        "outputId": "857285e0-fdfc-43b9-8a95-af9b6bc30793"
      },
      "execution_count": null,
      "outputs": [
        {
          "output_type": "stream",
          "name": "stdout",
          "text": [
            "Nama   : Ahmada Nur Maulana\n",
            "\n",
            "Prodi  : S1 Teknologi Informasi\n",
            "\n",
            "email  : ahmadamaulana66@gmail.com\n",
            "\n"
          ]
        }
      ]
    },
    {
      "cell_type": "code",
      "source": [
        "with open(\"Biodata2.txt\",\"w\") as me:\n",
        "   me.write(c[0])\n",
        "   me.write(c[2])\n",
        "   me.write(c[1])\n",
        "   me.write(c[3])"
      ],
      "metadata": {
        "id": "cVe5aI1L72Rw"
      },
      "execution_count": null,
      "outputs": []
    },
    {
      "cell_type": "code",
      "source": [
        "with open(\"Biodata2.txt\",\"r\") as me:\n",
        "  c = me.readlines()\n",
        "  print(c[0])\n",
        "  print(c[2])\n",
        "  print(c[1])\n",
        "  print(c[3])"
      ],
      "metadata": {
        "colab": {
          "base_uri": "https://localhost:8080/"
        },
        "id": "g67JCuyU76Nh",
        "outputId": "a9e4f40b-1635-486d-de25-4ee5c21b0cfb"
      },
      "execution_count": null,
      "outputs": [
        {
          "output_type": "stream",
          "name": "stdout",
          "text": [
            "Nama   : Ahmada Nur Maulana\n",
            "\n",
            "Prodi  : S1 Teknologi Informasi\n",
            "\n",
            "Npm    : 2440506069\n",
            "\n",
            "Alamat : Magelang \n",
            "\n"
          ]
        }
      ]
    },
    {
      "cell_type": "markdown",
      "source": [
        "# **Weekly 02**"
      ],
      "metadata": {
        "id": "7pu8s8I58AjM"
      }
    },
    {
      "cell_type": "code",
      "source": [
        "from os import write\n",
        "print('Selamat datang di Toko maju java')\n",
        "print('Senin, 4 September 2023   13.05')\n",
        "print()\n",
        "\n",
        "print('DAFTAR  BELANJA')\n",
        "item1 = \"sabun\"\n",
        "item2 = \"sampo\"\n",
        "item3 = \"Mie instant\"\n",
        "item4 = \"Detergen\"\n",
        "harga1 = 10000\n",
        "harga2 = 15000\n",
        "harga3 = 5000\n",
        "harga4 = 17500\n",
        "\n",
        "total = harga1 + harga2 + harga3 + harga4\n",
        "\n",
        "print(item1, \"= Rp\" + str(harga1))\n",
        "print(item2, \"= Rp\" + str(harga2))\n",
        "print(item3, \"= Rp\" + str(harga3))\n",
        "print(item4, \"= Rp\" + str(harga4))\n",
        "\n",
        "print(\" \")\n",
        "print('total =', str(total))\n",
        "print(\" \")\n",
        "\n",
        "with open('kuitansi.txt', 'w') as writefile:\n",
        "    writefile.write(\"Selamat Datang di Toko Maju Jaya\\n\")\n",
        "    writefile.write(\" \\n\")\n",
        "    writefile.write(\"Kuitansi - 4 Septermber 2023\\n\")\n",
        "    writefile.write(\" \\n\")\n",
        "    writefile.write(item1 + \"=Rp\" + str(harga1) + \"\\n\")\n",
        "    writefile.write(item2 + \"=Rp\" + str(harga2) + \"\\n\")\n",
        "    writefile.write(item3 + \"=Rp\" + str(harga3) + \"\\n\")\n",
        "    writefile.write(item4 + \"=Rp\" + str(harga4) + \"\\n\")\n",
        "    writefile.write(\" \\n\")\n",
        "    writefile.write(\"total Belanja =\" + str(total))"
      ],
      "metadata": {
        "colab": {
          "base_uri": "https://localhost:8080/"
        },
        "id": "N9IOlWQpx3Zn",
        "outputId": "b3a6eef4-bc24-4adc-ee80-02234945eb37"
      },
      "execution_count": null,
      "outputs": [
        {
          "output_type": "stream",
          "name": "stdout",
          "text": [
            "Selamat datang di Toko maju java\n",
            "Senin, 4 September 2023   13.05\n",
            "\n",
            "DAFTAR  BELANJA\n",
            "sabun = Rp10000\n",
            "sampo = Rp15000\n",
            "Mie instant = Rp5000\n",
            "Detergen = Rp17500\n",
            " \n",
            "total = 47500\n",
            " \n"
          ]
        }
      ]
    }
  ]
}